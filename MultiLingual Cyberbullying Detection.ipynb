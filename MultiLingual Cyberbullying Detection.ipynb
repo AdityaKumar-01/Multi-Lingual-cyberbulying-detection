{
 "cells": [
  {
   "cell_type": "markdown",
   "id": "d41507e5",
   "metadata": {},
   "source": [
    "# Multiligual Cyberbullying Detection"
   ]
  },
  {
   "cell_type": "code",
   "execution_count": 7,
   "id": "a5c1b762",
   "metadata": {},
   "outputs": [
    {
     "data": {
      "text/html": [
       "        <script type=\"text/javascript\">\n",
       "        window.PlotlyConfig = {MathJaxConfig: 'local'};\n",
       "        if (window.MathJax && window.MathJax.Hub && window.MathJax.Hub.Config) {window.MathJax.Hub.Config({SVG: {font: \"STIX-Web\"}});}\n",
       "        if (typeof require !== 'undefined') {\n",
       "        require.undef(\"plotly\");\n",
       "        requirejs.config({\n",
       "            paths: {\n",
       "                'plotly': ['https://cdn.plot.ly/plotly-2.16.1.min']\n",
       "            }\n",
       "        });\n",
       "        require(['plotly'], function(Plotly) {\n",
       "            window._Plotly = Plotly;\n",
       "        });\n",
       "        }\n",
       "        </script>\n",
       "        "
      ]
     },
     "metadata": {},
     "output_type": "display_data"
    },
    {
     "data": {
      "text/html": [
       "        <script type=\"text/javascript\">\n",
       "        window.PlotlyConfig = {MathJaxConfig: 'local'};\n",
       "        if (window.MathJax && window.MathJax.Hub && window.MathJax.Hub.Config) {window.MathJax.Hub.Config({SVG: {font: \"STIX-Web\"}});}\n",
       "        if (typeof require !== 'undefined') {\n",
       "        require.undef(\"plotly\");\n",
       "        requirejs.config({\n",
       "            paths: {\n",
       "                'plotly': ['https://cdn.plot.ly/plotly-2.16.1.min']\n",
       "            }\n",
       "        });\n",
       "        require(['plotly'], function(Plotly) {\n",
       "            window._Plotly = Plotly;\n",
       "        });\n",
       "        }\n",
       "        </script>\n",
       "        "
      ]
     },
     "metadata": {},
     "output_type": "display_data"
    }
   ],
   "source": [
    "#basic library\n",
    "import pandas as pd\n",
    "import numpy as np\n",
    "import math\n",
    "import logging\n",
    "logging = logging.getLogger(\"logger\")\n",
    "logging.info(\"Python logging\")\n",
    "\n",
    "#pre-processing library \n",
    "import re\n",
    "from indicnlp.tokenize import indic_tokenize\n",
    "from TurkishStemmer import TurkishStemmer\n",
    "import nltk\n",
    "from nltk.stem.snowball import SnowballStemmer\n",
    "import stanza\n",
    "from nltk.corpus import stopwords\n",
    "\n",
    "#plotting\n",
    "import chart_studio.plotly as py\n",
    "import seaborn as sns\n",
    "import plotly.express as px\n",
    "import cufflinks as cf\n",
    "import matplotlib.pyplot as plt\n",
    "%matplotlib inline\n",
    "import plotly.graph_objects as go\n",
    "from plotly.offline import download_plotlyjs, init_notebook_mode, plot, iplot #for running in jupyter notebook\n",
    "init_notebook_mode(connected=True)\n",
    "cf.go_offline()\n",
    "\n"
   ]
  },
  {
   "cell_type": "markdown",
   "id": "40d3c66a",
   "metadata": {},
   "source": [
    "### Language Labelling\n",
    "<p>This notebbok operate on 10 multiple langauges and here are the labels for them</p> \n",
    "<b>Hindi: 1 </b>\n",
    "<b>Bengali: 2 </b>\n",
    "<b>Punjabi: 3 </b>\n",
    "<b>Tamil: 4 </b>\n",
    "<b>Telugu: 5 </b><br>\n",
    "<b>Kannada: 6 </b>\n",
    "<b>French: 7 </b>\n",
    "<b>Turkish: 8 </b>\n",
    "<b>Indonesian: 9 </b>\n",
    "<b>English: 10 </b>"
   ]
  },
  {
   "cell_type": "code",
   "execution_count": 2,
   "id": "d60e51ee",
   "metadata": {},
   "outputs": [],
   "source": [
    "hinStop = [\"मैं\",\"मुझको\",\"मेरा\",\"अपने आप को\",\"हमने\",\"हमारा\",\"अपना\",\"हम\",\"आप\",\"आपका\",\"तुम्हारा\",\"अपने आप\",\"स्वयं\",\"वह\",\"इसे\",\"उसके\",\"खुद को\",\"कि वह\",\"उसकी\",\"उसका\",\"खुद ही\",\"यह\",\"इसके\",\"उन्होने\",\"अपने\",\"क्या\",\"जो\",\"किसे\",\"किसको\",\"कि\",\"ये\",\"हूँ\",\"होता है\",\"रहे\",\"थी\",\"थे\",\"होना\",\"गया\",\"किया जा रहा है\",\"किया है\",\"है\",\"पडा\",\"होने\",\"करना\",\"करता है\",\"किया\",\"रही\",\"एक\",\"लेकिन\",\"अगर\",\"या\",\"क्यूंकि\",\"जैसा\",\"जब तक\",\"जबकि\",\"की\",\"पर\",\"द्वारा\",\"के लिए\",\"साथ\",\"के बारे में\",\"खिलाफ\",\"बीच\",\"में\",\"के माध्यम से\",\"दौरान\",\"से पहले\",\"के बाद\",\"ऊपर\",\"नीचे\",\"को\",\"से\",\"तक\",\"से नीचे\",\"करने में\",\"निकल\",\"बंद\",\"से अधिक\",\"तहत\",\"दुबारा\",\"आगे\",\"फिर\",\"एक बार\",\"यहाँ\",\"वहाँ\",\"कब\",\"कहाँ\",\"क्यों\",\"कैसे\",\"सारे\",\"किसी\",\"दोनो\",\"प्रत्येक\",\"ज्यादा\",\"अधिकांश\",\"अन्य\",\"में कुछ\",\"ऐसा\",\"में कोई\",\"मात्र\",\"खुद\",\"समान\",\"इसलिए\",\"बहुत\",\"सकता\",\"जायेंगे\",\"जरा\",\"चाहिए\",\"अभी\",\"और\",\"कर दिया\",\"रखें\",\"का\",\"हैं\",\"इस\",\"होता\",\"करने\",\"ने\",\"बनी\",\"तो\",\"ही\",\"हो\",\"इसका\",\"था\",\"हुआ\",\"वाले\",\"बाद\",\"लिए\",\"सकते\",\"इसमें\",\"दो\",\"वे\",\"करते\",\"कहा\",\"वर्ग\",\"कई\",\"करें\",\"होती\",\"अपनी\",\"उनके\",\"यदि\",\"हुई\",\"जा\",\"कहते\",\"जब\",\"होते\",\"कोई\",\"हुए\",\"व\",\"जैसे\",\"सभी\",\"करता\",\"उनकी\",\"तरह\",\"उस\",\"आदि\",\"इसकी\",\"उनका\",\"इसी\",\"पे\",\"तथा\",\"भी\",\"परंतु\",\"इन\",\"कम\",\"दूर\",\"पूरे\",\"गये\",\"तुम\",\"मै\",\"यहां\",\"हुये\",\"कभी\",\"अथवा\",\"गयी\",\"प्रति\",\"जाता\",\"इन्हें\",\"गई\",\"अब\",\"जिसमें\",\"लिया\",\"बड़ा\",\"जाती\",\"तब\",\"उसे\",\"जाते\",\"लेकर\",\"बड़े\",\"दूसरे\",\"जाने\",\"बाहर\",\"स्थान\",\"उन्हें \",\"गए\",\"ऐसे\",\"जिससे\",\"समय\",\"दोनों\",\"किए\",\"रहती\",\"इनके\",\"इनका\",\"इनकी\",\"सकती\",\"आज\",\"कल\",\"जिन्हें\",\"जिन्हों\",\"तिन्हें\",\"तिन्हों\",\"किन्हों\",\"किन्हें\",\"इत्यादि\",\"इन्हों\",\"उन्हों\",\"बिलकुल\",\"निहायत\",\"इन्हीं\",\"उन्हीं\",\"जितना\",\"दूसरा\",\"कितना\",\"साबुत\",\"वग़ैरह\",\"कौनसा\",\"लिये\",\"दिया\",\"जिसे\",\"तिसे\",\"काफ़ी\",\"पहले\",\"बाला\",\"मानो\",\"अंदर\",\"भीतर\",\"पूरा\",\"सारा\",\"उनको\",\"वहीं\",\"जहाँ\",\"जीधर\",\"﻿के\",\"एवं\",\"कुछ\",\"कुल\",\"रहा\",\"जिस\",\"जिन\",\"तिस\",\"तिन\",\"कौन\",\"किस\",\"संग\",\"यही\",\"बही\",\"उसी\",\"मगर\",\"कर\",\"मे\",\"एस\",\"उन\",\"सो\",\"अत\",\"\",]"
   ]
  },
  {
   "cell_type": "code",
   "execution_count": 3,
   "id": "c8f23d06",
   "metadata": {},
   "outputs": [],
   "source": [
    "benStop = [\"অতএব\",\"অথচ\",\"অথবা\",\"অনুযায়ী\",\"অনেক\",\"অনেকে\",\"অনেকেই\",\"অন্তত\",\"অন্য\",\"অবধি\",\"অবশ্য\",\"অর্থাত\",\"আই\",\"আগামী\",\"আগে\",\"আগেই\",\"আছে\",\"আজ\",\"আদ্যভাগে\",\"আপনার\",\"আপনি\",\"আবার\",\"আমরা\",\"আমাকে\",\"আমাদের\",\"আমার\",\"আমি\",\"আর\",\"আরও\",\"ই\",\"ইত্যাদি\",\"ইহা\",\"উচিত\",\"উত্তর\",\"উনি\",\"উপর\",\"উপরে\",\"এ\",\"এঁদের\",\"এঁরা\",\"এই\",\"একই\",\"একটি\",\"একবার\",\"একে\",\"এক্\",\"এখন\",\"এখনও\",\"এখানে\",\"এখানেই\",\"এটা\",\"এটাই\",\"এটি\",\"এত\",\"এতটাই\",\"এতে\",\"এদের\",\"এব\",\"এবং\",\"এবার\",\"এমন\",\"এমনকী\",\"এমনি\",\"এর\",\"এরা\",\"এল\",\"এস\",\"এসে\",\"ঐ\",\"ও\",\"ওঁদের\",\"ওঁর\",\"ওঁরা\",\"ওই\",\"ওকে\",\"ওখানে\",\"ওদের\",\"ওর\",\"ওরা\",\"কখনও\",\"কত\",\"কবে\",\"কমনে\",\"কয়েক\",\"কয়েকটি\",\"করছে\",\"করছেন\",\"করতে\",\"করবে\",\"করবেন\",\"করলে\",\"করলেন\",\"করা\",\"করাই\",\"করায়\",\"করার\",\"করি\",\"করিতে\",\"করিয়া\",\"করিয়ে\",\"করে\",\"করেই\",\"করেছিলেন\",\"করেছে\",\"করেছেন\",\"করেন\",\"কাউকে\",\"কাছ\",\"কাছে\",\"কাজ\",\"কাজে\",\"কারও\",\"কারণ\",\"কি\",\"কিংবা\",\"কিছু\",\"কিছুই\",\"কিন্তু\",\"কী\",\"কে\",\"কেউ\",\"কেউই\",\"কেখা\",\"কেন\",\"কোটি\",\"কোন\",\"কোনও\",\"কোনো\",\"ক্ষেত্রে\",\"কয়েক\",\"খুব\",\"গিয়ে\",\"গিয়েছে\",\"গিয়ে\",\"গুলি\",\"গেছে\",\"গেল\",\"গেলে\",\"গোটা\",\"চলে\",\"চান\",\"চায়\",\"চার\",\"চালু\",\"চেয়ে\",\"চেষ্টা\",\"ছাড়া\",\"ছাড়াও\",\"ছিল\",\"ছিলেন\",\"জন\",\"জনকে\",\"জনের\",\"জন্য\",\"জন্যওজে\",\"জানতে\",\"জানা\",\"জানানো\",\"জানায়\",\"জানিয়ে\",\"জানিয়েছে\",\"জে\",\"জ্নজন\",\"টি\",\"ঠিক\",\"তখন\",\"তত\",\"তথা\",\"তবু\",\"তবে\",\"তা\",\"তাঁকে\",\"তাঁদের\",\"তাঁর\",\"তাঁরা\",\"তাঁাহারা\",\"তাই\",\"তাও\",\"তাকে\",\"তাতে\",\"তাদের\",\"তার\",\"তারপর\",\"তারা\",\"তারৈ\",\"তাহলে\",\"তাহা\",\"তাহাতে\",\"তাহার\",\"তিনঐ\",\"তিনি\",\"তিনিও\",\"তুমি\",\"তুলে\",\"তেমন\",\"তো\",\"তোমার\",\"থাকবে\",\"থাকবেন\",\"থাকা\",\"থাকায়\",\"থাকে\",\"থাকেন\",\"থেকে\",\"থেকেই\",\"থেকেও\",\"দিকে\",\"দিতে\",\"দিন\",\"দিয়ে\",\"দিয়েছে\",\"দিয়েছেন\",\"দিলেন\",\"দু\",\"দুই\",\"দুটি\",\"দুটো\",\"দেওয়া\",\"দেওয়ার\",\"দেওয়া\",\"দেখতে\",\"দেখা\",\"দেখে\",\"দেন\",\"দেয়\",\"দ্বারা\",\"ধরা\",\"ধরে\",\"ধামার\",\"নতুন\",\"নয়\",\"না\",\"নাই\",\"নাকি\",\"নাগাদ\",\"নানা\",\"নিজে\",\"নিজেই\",\"নিজেদের\",\"নিজের\",\"নিতে\",\"নিয়ে\",\"নিয়ে\",\"নেই\",\"নেওয়া\",\"নেওয়ার\",\"নেওয়া\",\"নয়\",\"পক্ষে\",\"পর\",\"পরে\",\"পরেই\",\"পরেও\",\"পর্যন্ত\",\"পাওয়া\",\"পাচ\",\"পারি\",\"পারে\",\"পারেন\",\"পি\",\"পেয়ে\",\"পেয়্র্\",\"প্রতি\",\"প্রথম\",\"প্রভৃতি\",\"প্রযন্ত\",\"প্রাথমিক\",\"প্রায়\",\"প্রায়\",\"ফলে\",\"ফিরে\",\"ফের\",\"বক্তব্য\",\"বদলে\",\"বন\",\"বরং\",\"বলতে\",\"বলল\",\"বললেন\",\"বলা\",\"বলে\",\"বলেছেন\",\"বলেন\",\"বসে\",\"বহু\",\"বা\",\"বাদে\",\"বার\",\"বি\",\"বিনা\",\"বিভিন্ন\",\"বিশেষ\",\"বিষয়টি\",\"বেশ\",\"বেশি\",\"ব্যবহার\",\"ব্যাপারে\",\"ভাবে\",\"ভাবেই\",\"মতো\",\"মতোই\",\"মধ্যভাগে\",\"মধ্যে\",\"মধ্যেই\",\"মধ্যেও\",\"মনে\",\"মাত্র\",\"মাধ্যমে\",\"মোট\",\"মোটেই\",\"যখন\",\"যত\",\"যতটা\",\"যথেষ্ট\",\"যদি\",\"যদিও\",\"যা\",\"যাঁর\",\"যাঁরা\",\"যাওয়া\",\"যাওয়ার\",\"যাওয়া\",\"যাকে\",\"যাচ্ছে\",\"যাতে\",\"যাদের\",\"যান\",\"যাবে\",\"যায়\",\"যার\",\"যারা\",\"যিনি\",\"যে\",\"যেখানে\",\"যেতে\",\"যেন\",\"যেমন\",\"র\",\"রকম\",\"রয়েছে\",\"রাখা\",\"রেখে\",\"লক্ষ\",\"শুধু\",\"শুরু\",\"সঙ্গে\",\"সঙ্গেও\",\"সব\",\"সবার\",\"সমস্ত\",\"সম্প্রতি\",\"সহ\",\"সহিত\",\"সাধারণ\",\"সামনে\",\"সি\",\"সুতরাং\",\"সে\",\"সেই\",\"সেখান\",\"সেখানে\",\"সেটা\",\"সেটাই\",\"সেটাও\",\"সেটি\",\"স্পষ্ট\",\"স্বয়ং\",\"হইতে\",\"হইবে\",\"হইয়া\",\"হওয়া\",\"হওয়ায়\",\"হওয়ার\",\"হচ্ছে\",\"হত\",\"হতে\",\"হতেই\",\"হন\",\"হবে\",\"হবেন\",\"হয়\",\"হয়তো\",\"হয়নি\",\"হয়ে\",\"হয়েই\",\"হয়েছিল\",\"হয়েছে\",\"হয়েছেন\",\"হল\",\"হলে\",\"হলেই\",\"হলেও\",\"হলো\",\"হাজার\",\"হিসাবে\",\"হৈলে\",\"হোক\",\"হয়\"]"
   ]
  },
  {
   "cell_type": "code",
   "execution_count": 4,
   "id": "5bc46cf7",
   "metadata": {},
   "outputs": [],
   "source": [
    "punStop = [\"ਦੇ\",\"ਹੈ।\",\"ਵਿੱਚ\",\"ਦਾ\",\"ਅਤੇ\",\"ਦੀ\",\"ਇੱਕ\",\"ਨੂੰ\",\"ਹੈ\",\"ਤੋਂ\",\"ਇਸ\",\"ਇਹ\",\"ਨੇ\",\"ਤੇ\",\"ਨਾਲ\",\"ਲਈ\",\"ਵੀ\",\"ਸੀ।\",\"ਹਨ।\",\"ਸੀ\",\"ਵਿਚ\",\"ਕਿ\",\"ਜੋ\",\"ਉਹ\",\"ਉਸ\",\"ਹਨ\",\"ਜਾਂਦਾ\",\"ਕੀਤਾ\",\"ਗਿਆ\",\"ਹੀ\",\"ਕੇ\",\"ਜਾਂ\",\"ਦੀਆਂ\",\"ਜਿਸ\",\"ਕਰਨ\",\"ਹੋ\",\"ਕਰ\",\"ਆਪਣੇ\",\"ਕੀਤੀ\",\"ਤੌਰ\",\"ਬਾਅਦ\",\"ਨਹੀਂ\",\"ਭਾਰਤੀ\",\"ਪਿੰਡ\",\"ਸਿੰਘ\",\"ਉੱਤੇ\",\"ਸਾਲ\",\"ਪੰਜਾਬ\",\"ਸਭ\",\"ਭਾਰਤ\",\"ਉਨ੍ਹਾਂ\",\"ਹੁੰਦਾ\",\"ਤੱਕ\",\"ਇਕ\",\"ਹੋਇਆ\",\"ਜਨਮ\",\"ਬਹੁਤ\",\"ਪਰ\",\"ਸਨ।\",\"ਦੁਆਰਾ\",\"ਰੂਪ\",\"ਹੋਰ\",\"ਕੰਮ\",\"ਆਪਣੀ\",\"ਤਾਂ\",\"ਸਮੇਂ\",\"ਪੰਜਾਬੀ\",\"ਗਈ\",\"ਦਿੱਤਾ\",\"ਦੋ\",\"ਕਿਸੇ\",\"ਕਈ\",\"ਜਾ\",\"ਵਾਲੇ\",\"ਸ਼ੁਰੂ\",\"ਉਸਨੇ\",\"ਗਿਆ।\",\"ਕਿਹਾ\",\"ਹੋਣ\",\"ਲੋਕ\",\"ਜਾਂਦੀ\",\"ਵਿੱਚੋਂ\",\"ਨਾਮ\",\"ਕੀਤਾ।\",\"ਜਦੋਂ\",\"ਪਹਿਲਾਂ\",\"ਕਰਦਾ\",\"ਹੁੰਦੀ\",\"ਹੋਏ\",\"ਸਨ\",\"ਵਜੋਂ\",\"ਰਾਜ\",\"ਕੀਤੀ।\",\"ਮੁੱਖ\",\"ਕਰਦੇ\",\"ਕੁਝ\",\"ਸਾਰੇ\",\"ਹੁੰਦੇ\",\"ਸ਼ਹਿਰ\",\"ਭਾਸ਼ਾ\",\"ਹੋਈ\",\"ਅਨੁਸਾਰ\",\"ਸਕਦਾ\",\"ਆਮ\",\"ਵੱਖ\",\"ਕੋਈ\",\"ਵਾਰ\",\"ਗਏ\",\"ਖੇਤਰ\",\"ਜੀ\",\"ਕਾਰਨ\",\"ਕਰਕੇ\",\"ਹੋਇਆ।\",\"ਜਿਵੇਂ\",\"ਜ਼ਿਲ੍ਹੇ\",\"ਲੋਕਾਂ\",\"ਚ\",\"ਸਾਹਿਤ\",\"ਸਦੀ\",\"ਬਾਰੇ\",\"ਜਾਂਦੇ\",\"ਵਾਲਾ\",\"ਜਾਣ\",\"ਪਹਿਲੀ\",\"ਪ੍ਰਾਪਤ\",\"ਰਿਹਾ\",\"ਵਾਲੀ\",\"ਨਾਂ\",\"ਦੌਰਾਨ\",\"ਤਰ੍ਹਾਂ\",\"ਯੂਨੀਵਰਸਿਟੀ\",\"ਨਾ\",\"ਏ\",\"ਤਿੰਨ\",\"ਇਨ੍ਹਾਂ\",\"ਗੁਰੂ\",\"ਇਸਨੂੰ\",\"ਇਹਨਾਂ\",\"ਪਿਤਾ\",\"ਲਿਆ\",\"ਸ਼ਾਮਲ\",\"ਸ਼ਬਦ\",\"ਅੰਗਰੇਜ਼ੀ\",\"ਉਸਨੂੰ\",\"ਉਹਨਾਂ\",\"ਸਥਿਤ\",\"ਫਿਰ\",\"ਜੀਵਨ\",\"ਸਕੂਲ\",\"ਹੁਣ\",\"ਦਿਨ\",\"ਕੀਤੇ\",\"ਆਦਿ\",\"ਵੱਧ\",\"ਲੈ\",\"ਘਰ\",\"ਵੱਲ\",\"ਦੇਸ਼\",\"ਵਲੋਂ\",\"ਬਣ\",\"ਵੀਂ\",\"ਫਿਲਮ\",\"ਉਮਰ\",\"ਬਲਾਕ\",\"ਰਹੇ\",\"ਸਾਹਿਬ\",\"ਕਰਦੀ\",\"ਹਰ\",\"ਪੈਦਾ\",\"ਘੱਟ\",\"9\",\"ਲੇਖਕ\",\"ਹਿੱਸਾ\",\"ਫ਼ਿਲਮ\",\"ਮੌਤ\",\"ਜਿੱਥੇ\",\"ਵੱਡਾ\",\"ਵਿਖੇ\",\"ਆਪਣਾ\",\"ਪਹਿਲਾ\",\"ਵਰਤੋਂ\",\"ਗਈ।\",\"ਆਪ\",\"ਕਰਨਾ\",\"ਵਿਆਹ\",\"ਰਹੀ\",\"ਰਾਹੀਂ\",\"ਦਿੱਤੀ\",\"ਉਸਦੇ\",\"ਪਰਿਵਾਰ\",\"ਆ\",\"ਦੂਜੇ\",\"ਅਮਰੀਕਾ\",\"ਮੰਨਿਆ\",\"ਇਸਦੇ\",\"ਈ\",\"ਕਾਲਜ\",\"ਸਰਕਾਰ\",\"ਇੱਥੇ\",\"ਪਾਕਿਸਤਾਨ\",\"ਸ਼ਾਮਿਲ\",\"ਵਿਗਿਆਨ\",\"ਉਸਦੀ\",\"ਪੇਸ਼\",\"ਕਿਉਂਕਿ\",\"ਪਹਿਲੇ\",\"ਧਰਮ\",\"ਦਿੱਤਾ।\",\"ਮਸ਼ਹੂਰ\",\"ਅੰਦਰ\",\"ਵਿਚੋਂ\",\"ਜਿਨ੍ਹਾਂ\",\"ਜਾਣਿਆ\",\"ਪਾਣੀ\",\"ਇਲਾਵਾ\",\"ਅਰਥ\",\"ਚਾਰ\",\"ਪ੍ਰਸਿੱਧ\",\"ਨਾਵਲ\",\"ਵੱਡੇ\",\"ਵੱਲੋਂ\",\"ਕਹਾਣੀ\",\"ਵਿਸ਼ਵ\",\"ਮੂਲ\",\"ਅਮਰੀਕੀ\",\"ਸਥਾਨ\",\"ਇਤਿਹਾਸ\",\"ਕੁੱਝ\",\"ਵਿਕਾਸ\",\"ਉੱਤਰ\",\"ਸਿੱਖਿਆ\",\"ਹਿੰਦੀ\",\"ਪ੍ਰਮੁੱਖ\",\"ਰਚਨਾ\",\"ਗਏ।\",\"ਬਣਾਇਆ\",\"ਵਿਸ਼ੇਸ਼\",\"ਡਾ\",\"ਉੱਪਰ\",\"ਪੱਛਮੀ\",\"ਦੇਣ\",\"ਇਸਦਾ\",\"ਸਕਦੇ\",\"ਰੱਖਿਆ\",\"ਕਵੀ\",\"ਦਿੱਲੀ\",\"ਵੱਡੀ\",\"ਭੂਮਿਕਾ\",\"ਸਮਾਜ\",\"ਕਾਵਿ\",\"ਕੀ\",\"ਕੋਲ\",\"ਦ\",\"ਗੱਲ\",\"ਸੰਸਾਰ\",\"ਭਾਗ\",\"ਆਈ\",\"ਦੱਖਣ\",\"ਅੱਜ\",\"ਸਿੱਖ\",\"ਕਹਿੰਦੇ\",\"ਸੰਗੀਤ\",\"ਕਿਲੋਮੀਟਰ\",\"ਜਿਹਨਾਂ\",\"ਸਭਾ\",\"ਜਿਸਦਾ\",\"ਜਨਵਰੀ\",\"13\",\"ਕਵਿਤਾ\",\"ਮੈਂਬਰ\",\"ਲਿਖਿਆ\",\"ਮਾਂ\",\"ਕਲਾ\",\"ਪੰਜ\",\"ਥਾਂ\",\"ਹੇਠ\",\"ਜਿਆਦਾ\",\"ਵਰਤਿਆ\",\"ਮਾਰਚ\",\"ਡੀ\",\"ਅਕਤੂਬਰ\",\"14\",\"19\",\"ਤਕ\",\"16\",\"ਨਾਟਕ\",\"ਬੀ\",\"ਖਾਸ\",\"ਇਸੇ\",\"ਆਧੁਨਿਕ\",\"ਅਗਸਤ\",\"ਤਿਆਰ\",\"ਮਾਤਾ\",\"18\",\"ਬਣਾਉਣ\",\"ਨਵੰਬਰ\",\"ਵਿਅਕਤੀ\",\"ਦੱਖਣੀ\",\"ਦਸੰਬਰ\",\"ਆਫ\",\"ਗੀਤ\",\"ਗਿਣਤੀ\",\"ਕਾਲ\",\"ਖੋਜ\",\"ਸਾਲਾਂ\",\"ਪੂਰੀ\",\"ਸਮਾਂ\",\"ਜ਼ਿਆਦਾ\",\"ਇਸਦੀ\",\"ਸਕਦੀ\",\"ਵਿਚਕਾਰ\",\"ਰਾਜਧਾਨੀ\",\"30\",\"ਉਸਦਾ\",\"ਲਿਆ।\",\"ਜੁਲਾਈ\",\"ਹੋਈ।\",\"ਜੂਨ\",\"ਅਧੀਨ\",\"ਸਥਾਪਨਾ\",\"ਸੇਵਾ\",\"ਭਾਵ\",\"ਵਰਗ\",\"ਛੋਟੇ\",\"ਦਿੰਦਾ\",\"ਸਮਾਜਿਕ\",\"ਹੁੰਦੀਆਂ\",\"ਟੀਮ\",\"ਔਰਤਾਂ\",\"ਅਕਸਰ\",\"ਪ੍ਰਕਾਸ਼ਿਤ\",\"17\",\"ਉਰਦੂ\",\"ਰੰਗ\",\"ਪਾਰਟੀ\",\"ਬਣਾ\",\"ਪ੍ਰਭਾਵ\",\"ਸ਼ੁਰੂਆਤ\",\"ਲਗਭਗ\",\"ਮਈ\",\"ਸਿਰਫ\",\"ਨੇੜੇ\",\"ਜਿਸਨੂੰ\",\"ਹਾਲਾਂਕਿ\",\"ਦੂਰ\",\"ਸਤੰਬਰ\",\"ਕਿਤਾਬ\",\"2011\",\"ਕਦੇ\",\"n\",\"ਉੱਤਰੀ\",\"ਪ੍ਰਕਾਰ\",\"ਇਸਨੇ\",\"ਪ੍ਰਦੇਸ਼\",\"ਅੱਗੇ\",\"ਸੰਯੁਕਤ\",\"ਪੜ੍ਹਾਈ\",\"ਵਧੇਰੇ\",\"ਨਾਲ਼\",\"ਮਨੁੱਖ\",\"000\",\"ਬਾਕੀ\",\"ਪ੍ਰਧਾਨ\",\"ਦੂਜੀ\",\"ਕੁੱਲ\",\"ਆਫ਼\",\"ਅਧਿਐਨ\",\"ਰਾਸ਼ਟਰੀ\",\"ਪੁੱਤਰ\",\"ਅੰਤਰਰਾਸ਼ਟਰੀ\",\"ਧਰਤੀ\",\"ਕੇਂਦਰ\",\"ਦੇਸ਼ਾਂ\",\"ਮੱਧ\",\"ਜ਼ਿਲ੍ਹਾ\",\"ਸਾਰੀਆਂ\",\"ਪੱਧਰ\",\"2012\",\"ਹੋਵੇ\",\"ਜੇ\",\"ਭਾਈ\",\"ਰਹਿਣ\",\"ਪੁਰਸਕਾਰ\",\"ਸਭਿਆਚਾਰ\",\"ਪਤਾ\",\"ਪਾਸੇ\",\"ਨਵੇਂ\",\"ਕੰਪਨੀ\",\"ਬਾਹਰ\",\"ਵੇਲੇ\",\"ਸੰਨ\",\"25\",\"ਪੂਰਬੀ\",\"ਵਿਚਾਰ\",\"e\",\"ਕਾਰਜ\",\"ਪੀ\",\"ਮਹੱਤਵਪੂਰਨ\",\"ਦੁਨੀਆਂ\",\"ਧਾਰਮਿਕ\",\"ਮਨੁੱਖੀ\",\"ਸਮੂਹ\",\"ਅਜਿਹੇ\",\"ਲਾਲ\",\"ਦੂਜਾ\",\"ਭਰਾ\",\"ਸ੍ਰੀ\",\"ਅੰਤ\",\"ਜਾਂਦੀਆਂ\",\"i\",\"ਸ਼ਾਹ\",\"ਰਹਿੰਦੇ\",\"ਮਹਾਨ\",\"ਚੀਨ\",\"ਮੀਟਰ\",\"ਵਰਗੇ\",\"ਨਾਲੋਂ\",\"ਹਾਸਲ\",\"ਕਿਸਮ\",\"ਅਜਿਹਾ\",\"ਬਣਿਆ\",\"ਭਰ\",\"ਛੱਡ\",\"ਲੈਣ\",\"ਹਿੱਸੇ\",\"29\",\"ਟੀ\",\"ਲਿਖੇ\",\"ਮਿਲ\",\"ਮੌਜੂਦ\",\"ਦਿੱਤੇ\",\"ਵਾਸਤੇ\",\"ਰਿਹਾ।\",\"ਵਾਲੀਆਂ\",\"ਵਧੀਆ\",\"ਰੂਸੀ\",\"ਜਾਰੀ\",\"ਸਰਕਾਰੀ\",\"ਡਿਗਰੀ\",\"2014\",\"ਪੱਛਮ\",\"ਲੜਾਈ\",\"ਭਾਸ਼ਾਵਾਂ\",\"ਰਾਜਾ\",\"the\",\"ਜਲੰਧਰ\",\"ਹਿੰਦੂ\",\"ਔਰਤ\",\"ਜੰਗ\",\"ਬਾਬਾ\",\"ਬੱਚਿਆਂ\",\"ਮੰਤਰੀ\",\"ਪਟਿਆਲਾ\",\"ਵਾਂਗ\",\"a\",\"ਆਉਣ\",\"ਭਾਵੇਂ\",\"ਕੇਵਲ\",\"21\",\"ਐਸ\",\"ਪ੍ਰਾਚੀਨ\",\"ਰਹਿੰਦਾ\",\"ਬੋਲੀ\",\"ਅਵਾਰਡ\",\"ਨਗਰ\",\"ਖੇਡਾਂ\",\"ਫਿਲਮਾਂ\",\"ਬੱਚੇ\",\"ਕੌਰ\",\"ਤੋ\",\"ਪ੍ਰਤੀ\",\"ਕੁਆਂਟਮ\",\"ਅਬਾਦੀ\",\"ਪੁਸਤਕ\",\"ਐਮ\",\"ਰਾਮ\",\"ਖੇਤਰਾਂ\",\"ਫਰਵਰੀ\",\"ਕ੍ਰਿਕਟ\",\"ਪੈਂਦਾ\",\"ਇਤਿਹਾਸਕ\",\"ਲੱਗ\",\"ਬ੍ਰਿਟਿਸ਼\",\"ਆਇਆ\",\"ਮਿਲਦਾ\"]"
   ]
  },
  {
   "cell_type": "code",
   "execution_count": 5,
   "id": "c2524016",
   "metadata": {},
   "outputs": [],
   "source": [
    "tamStop = ['அங்கு', 'அங்கே', 'அடுத்த', 'அதனால்', 'அதன்', 'அதற்கு', 'அதிக', 'அதில்', 'அது', 'அதே', 'அதை', 'அந்த', 'அந்தக்', 'அந்தப்', 'அன்று', 'அல்லது', 'அவன்', 'அவரது', 'அவர்', 'அவர்கள்', 'அவள்', 'அவை', 'ஆகிய', 'ஆகியோர்', 'ஆகும்', 'இங்கு', 'இங்கே', 'இடத்தில்', 'இடம்', 'இதனால்', 'இதனை', 'இதன்', 'இதற்கு', 'இதில்', 'இது', 'இதை', 'இந்த', 'இந்தக்', 'இந்தத்', 'இந்தப்', 'இன்னும்', 'இப்போது', 'இரு', 'இருக்கும்', 'இருந்த', 'இருந்தது', 'இருந்து', 'இவர்', 'இவை', 'உன்', 'உள்ள', 'உள்ளது', 'உள்ளன', 'எந்த', 'என', 'எனக்', 'எனக்கு', 'எனப்படும்', 'எனவும்', 'எனவே', 'எனினும்', 'எனும்', 'என்', 'என்ன', 'என்னும்', 'என்பது', 'என்பதை', 'என்ற', 'என்று', 'என்றும்', 'எல்லாம்', 'ஏன்', 'ஒரு', 'ஒரே', 'ஓர்', 'கொண்ட', 'கொண்டு', 'கொள்ள', 'சற்று', 'சிறு', 'சில', 'சேர்ந்த', 'தனது', 'தன்', 'தவிர', 'தான்', 'நான்', 'நாம்', 'நீ', 'பற்றி', 'பற்றிய', 'பல', 'பலரும்', 'பல்வேறு', 'பின்', 'பின்னர்', 'பிற', 'பிறகு', 'பெரும்', 'பேர்', 'போது', 'போன்ற', 'போல', 'போல்', 'மட்டுமே', 'மட்டும்', 'மற்ற', 'மற்றும்', 'மிக', 'மிகவும்', 'மீது', 'முதல்', 'முறை', 'மேலும்', 'மேல்', 'யார்', 'வந்த', 'வந்து', 'வரும்', 'வரை', 'வரையில்', 'விட', 'விட்டு', 'வேண்டும்', 'வேறு']"
   ]
  },
  {
   "cell_type": "code",
   "execution_count": 6,
   "id": "5bcfde27",
   "metadata": {},
   "outputs": [],
   "source": [
    "telStop = ['అందరూ', 'అందుబాటులో', 'అడగండి', 'అడగడం', 'అడ్డంగా', 'అనుగుణంగా', 'అనుమతించు', 'అనుమతిస్తుంది', 'అయితే', 'ఇప్పటికే', 'ఉన్నారు', 'ఎక్కడైనా', 'ఎప్పుడు', 'ఎవరైనా', 'ఎవరో', 'ఏ', 'ఏదైనా', 'ఏమైనప్పటికి', 'ఒక', 'ఒకరు', 'కనిపిస్తాయి', 'కాదు', 'కూడా', 'గా', 'గురించి', 'చుట్టూ', 'చేయగలిగింది', 'తగిన', 'తర్వాత', 'దాదాపు', 'దూరంగా', 'నిజంగా', 'పై', 'ప్రకారం', 'ప్రక్కన', 'మధ్య', 'మరియు', 'మరొక', 'మళ్ళీ', 'మాత్రమే', 'మెచ్చుకో', 'వద్ద', 'వెంట', 'వేరుగా', 'వ్యతిరేకంగా', 'సంబంధం']"
   ]
  },
  {
   "cell_type": "code",
   "execution_count": 7,
   "id": "e0a49d67",
   "metadata": {},
   "outputs": [],
   "source": [
    "kanStop = [\"ಈ\",\"ಆದರೆ\",\"ಎಂದು\",\"ಅವರ\",\"ಮತ್ತು\",\"ಎಂಬ\",\"ಅವರು\",\"ಒಂದು\",\"ಬಗ್ಗೆ\",\"ಆ\",\"ಇದೆ\",\"ಇದು\",\"ನಾನು\",\"ಮೂಲಕ\",\"ನನ್ನ\",\"ಅದು\",\"ಮೇಲೆ\",\"ಈಗ\",\"ಹಾಗೂ\",\"ಇಲ್ಲ\",\"ಮೊದಲ\",\"ನನಗೆ\",\"ಹೆಚ್ಚು\",\"ಅವರಿಗೆ\",\"ತಮ್ಮ\",\"ಮಾಡಿ\",\"ನಮ್ಮ\",\"ಮಾತ್ರ\",\"ದೊಡ್ಡ\",\"ಅದೇ\",\"ಕೂಡ\",\"ಸಿನಿಮಾ\",\"ಯಾವುದೇ\",\"ಯಾವ\",\"ಆಗ\",\"ತುಂಬಾ\",\"ನಾವು\",\"ದಿನ\",\"ಬೇರೆ\",\"ಅವರನ್ನು\",\"ಎಲ್ಲಾ\",\"ನೀವು\",\"ಸಾಕಷ್ಟು\",\"ಕನ್ನಡ\",\"ಹೊಸ\",\"ಮುಂದೆ\",\"ಹೇಗೆ\",\"ನಂತರ\",\"ಇಲ್ಲಿ\",\"ಕೆಲಸ\",\"ಅಲ್ಲ\",\"ಬಳಿಕ\",\"ಒಳ್ಳೆಯ\",\"ಹಾಗಾಗಿ\",\"ಒಂದೇ\",\"ಜನ\",\"ಅದನ್ನು\",\"ಬಂದ\",\"ಕಾರಣ\",\"ಅವಕಾಶ\",\"ವರ್ಷ\",\"ನಿಮ್ಮ\",\"ಇತ್ತು\",\"ಚಿತ್ರ\",\"ಹೇಳಿ\",\"ಮಾಡಿದ\",\"ಅದಕ್ಕೆ\",\"ಆಗಿ\",\"ಎಂಬುದು\",\"ಅಂತ\",\"2\",\"ಕೆಲವು\",\"ಮೊದಲು\",\"ಬಂದು\",\"ಇದೇ\",\"ನೋಡಿ\",\"ಕೇವಲ\",\"ಎರಡು\",\"ಇನ್ನು\",\"ಅಷ್ಟೇ\",\"ಎಷ್ಟು\",\"ಚಿತ್ರದ\",\"ಮಾಡಬೇಕು\",\"ಹೀಗೆ\",\"ಕುರಿತು\",\"5\",\"ಉತ್ತರ\",\"ಎಂದರೆ\",\"ಇನ್ನೂ\",\"ಮತ್ತೆ\",\"ಏನು\",\"ಪಾತ್ರ\",\"ಮುಂದಿನ\",\"ಸಂದರ್ಭದಲ್ಲಿ\",\"ಮಾಡುವ\",\"ವೇಳೆ\",\"ನನ್ನನ್ನು\",\"ಮೂರು\",\"ಅಥವಾ\",\"ಜೊತೆಗೆ\",\"ಹೆಸರು\",\"ಚಿತ್ರದಲ್ಲಿ\"]"
   ]
  },
  {
   "cell_type": "code",
   "execution_count": 8,
   "id": "05540a81",
   "metadata": {},
   "outputs": [],
   "source": [
    "freStop = [\"a\",\"ai\",\"aie\",\"aient\",\"aies\",\"ait\",\"alors\",\"as\",\"au\",\"aucun\",\"aura\",\"aurai\",\"auraient\",\"aurais\",\"aurait\",\"auras\",\"aurez\",\"auriez\",\"aurions\",\"aurons\",\"auront\",\"aussi\",\"autre\",\"aux\",\"avaient\",\"avais\",\"avait\",\"avant\",\"avec\",\"avez\",\"aviez\",\"avions\",\"avoir\",\"avons\",\"ayant\",\"ayez\",\"ayons\",\"bon\",\"car\",\"ce\",\"ceci\",\"cela\",\"ces\",\"cet\",\"cette\",\"ceux\",\"chaque\",\"ci\",\"comme\",\"comment\",\"d\",\"dans\",\"de\",\"dedans\",\"dehors\",\"depuis\",\"des\",\"deux\",\"devoir\",\"devrait\",\"devrez\",\"devriez\",\"devrions\",\"devrons\",\"devront\",\"dois\",\"doit\",\"donc\",\"dos\",\"droite\",\"du\",\"dès\",\"début\",\"dù\",\"elle\",\"elles\",\"en\",\"encore\",\"es\",\"est\",\"et\",\"eu\",\"eue\",\"eues\",\"eurent\",\"eus\",\"eusse\",\"eussent\",\"eusses\",\"eussiez\",\"eussions\",\"eut\",\"eux\",\"eûmes\",\"eût\",\"eûtes\",\"faire\",\"fais\",\"faisez\",\"fait\",\"faites\",\"fois\",\"font\",\"force\",\"furent\",\"fus\",\"fusse\",\"fussent\",\"fusses\",\"fussiez\",\"fussions\",\"fut\",\"fûmes\",\"fût\",\"fûtes\",\"haut\",\"hors\",\"ici\",\"il\",\"ils\",\"j\",\"je\",\"juste\",\"l\",\"la\",\"le\",\"les\",\"leur\",\"leurs\",\"lui\",\"là\",\"m\",\"ma\",\"maintenant\",\"mais\",\"me\",\"mes\",\"moi\",\"moins\",\"mon\",\"mot\",\"même\",\"n\",\"ne\",\"ni\",\"nom\",\"nommé\",\"nommée\",\"nommés\",\"nos\",\"notre\",\"nous\",\"nouveau\",\"nouveaux\",\"on\",\"ont\",\"ou\",\"où\",\"par\",\"parce\",\"parole\",\"pas\",\"personne\",\"personnes\",\"peu\",\"peut\",\"plupart\",\"pour\",\"pourquoi\",\"qu\",\"quand\",\"que\",\"quel\",\"quelle\",\"quelles\",\"quels\",\"qui\",\"sa\",\"sans\",\"se\",\"sera\",\"serai\",\"seraient\",\"serais\",\"serait\",\"seras\",\"serez\",\"seriez\",\"serions\",\"serons\",\"seront\",\"ses\",\"seulement\",\"si\",\"sien\",\"soi\",\"soient\",\"sois\",\"soit\",\"sommes\",\"son\",\"sont\",\"sous\",\"soyez\",\"soyons\",\"suis\",\"sujet\",\"sur\",\"t\",\"ta\",\"tandis\",\"te\",\"tellement\",\"tels\",\"tes\",\"toi\",\"ton\",\"tous\",\"tout\",\"trop\",\"très\",\"tu\",\"un\",\"une\",\"valeur\",\"voient\",\"vois\",\"voit\",\"vont\",\"vos\",\"votre\",\"vous\",\"vu\",\"y\",\"à\",\"ça\",\"étaient\",\"étais\",\"était\",\"étant\",\"état\",\"étiez\",\"étions\",\"été\",\"étés\",\"êtes\",\"être\"]"
   ]
  },
  {
   "cell_type": "code",
   "execution_count": 9,
   "id": "f495a454",
   "metadata": {},
   "outputs": [],
   "source": [
    "turStop = [\"mu\",\"onlar\",\"seksen\",\"ama\",\"trilyon\",\"buna\",\"bizim\",\"þeyden\",\"yirmi\",\"altý\",\"iki\",\"seni\",\"doksan\",\"dört\",\"bunun\",\"ki\",\"nereye\",\"altmýþ\",\"hem\",\"milyon\",\"kez\",\"otuz\",\"beþ\",\"elli\",\"bizi\",\"da\",\"sekiz\",\"ve\",\"çok\",\"bu\",\"veya\",\"ya\",\"kýrk\",\"onlarýn\",\"ona\",\"bana\",\"yetmiþ\",\"milyar\",\"þunu\",\"senden\",\"birþeyi\",\"dokuz\",\"yani\",\"kimi\",\"þeyler\",\"kim\",\"neden\",\"senin\",\"yedi\",\"niye\",\"üç\",\"þey\",\"mý\",\"tüm\",\"onlari\",\"bunda\",\"ise\",\"þundan\",\"hep\",\"þuna\",\"bin\",\"ben\",\"ondan\",\"kimden\",\"bazý\",\"belki\",\"ne\",\"bundan\",\"gibi\",\"de\",\"onlardan\",\"sizi\",\"sizin\",\"daha\",\"niçin\",\"þunda\",\"INSERmi\",\"bunu\",\"beni\",\"ile\",\"þu\",\"þeyi\",\"sizden\",\"defa\",\"biz\",\"için\",\"dahi\",\"siz\",\"nerde\",\"kime\",\"birþey\",\"birkez\",\"her\",\"biri\",\"on\",\"mü\",\"diye\",\"acaba\",\"sen\",\"en\",\"hepsi\",\"bir\",\"bizden\",\"sanki\",\"benim\",\"nerede\",\"onu\",\"benden\",\"yüz\",\"birkaç\",\"çünkü\",\"nasýl\",\"hiç\",\"katrilyon\"]"
   ]
  },
  {
   "cell_type": "code",
   "execution_count": 10,
   "id": "6aacb346",
   "metadata": {},
   "outputs": [],
   "source": [
    "indStop = [\"rt\",\"ada\",\"adalah\",\"adanya\",\"adapun\",\"agak\",\"agaknya\",\"agar\",\"akan\",\"akankah\",\"akhir\",\"akhiri\",\"akhirnya\",\"aku\",\"akulah\",\"amat\",\"amatlah\",\"anda\",\"andalah\",\"antar\",\"antara\",\"antaranya\",\"apa\",\"apaan\",\"apabila\",\"apakah\",\"apalagi\",\"apatah\",\"artinya\",\"asal\",\"asalkan\",\"atas\",\"atau\",\"ataukah\",\"ataupun\",\"awal\",\"awalnya\",\"bagai\",\"bagaikan\",\"bagaimana\",\"bagaimanakah\",\"bagaimanapun\",\"bagi\",\"bagian\",\"bahkan\",\"bahwa\",\"bahwasanya\",\"baik\",\"bakal\",\"bakalan\",\"balik\",\"banyak\",\"bapak\",\"baru\",\"bawah\",\"beberapa\",\"begini\",\"beginian\",\"beginikah\",\"beginilah\",\"begitu\",\"begitukah\",\"begitulah\",\"begitupun\",\"bekerja\",\"belakang\",\"belakangan\",\"belum\",\"belumlah\",\"benar\",\"benarkah\",\"benarlah\",\"berada\",\"berakhir\",\"berakhirlah\",\"berakhirnya\",\"berapa\",\"berapakah\",\"berapalah\",\"berapapun\",\"berarti\",\"berawal\",\"berbagai\",\"berdatangan\",\"beri\",\"berikan\",\"berikut\",\"berikutnya\",\"berjumlah\",\"berkali-kali\",\"berkata\",\"berkehendak\",\"berkeinginan\",\"berkenaan\",\"berlainan\",\"berlalu\",\"berlangsung\",\"berlebihan\",\"bermacam\",\"bermacam-macam\",\"bermaksud\",\"bermula\",\"bersama\",\"bersama-sama\",\"bersiap\",\"bersiap-siap\",\"bertanya\",\"bertanya-tanya\",\"berturut\",\"berturut-turut\",\"bertutur\",\"berujar\",\"berupa\",\"besar\",\"betul\",\"betulkah\",\"biasa\",\"biasanya\",\"bila\",\"bilakah\",\"bisa\",\"bisakah\",\"boleh\",\"bolehkah\",\"bolehlah\",\"buat\",\"bukan\",\"bukankah\",\"bukanlah\",\"bukannya\",\"bulan\",\"bung\",\"cc\",\"cara\",\"caranya\",\"cukup\",\"cukupkah\",\"cukuplah\",\"cuma\",\"dahulu\",\"dalam\",\"dan\",\"dapat\",\"dari\",\"daripada\",\"datang\",\"dekat\",\"demi\",\"demikian\",\"demikianlah\",\"dengan\",\"dgn\",\"depan\",\"di\",\"dia\",\"diakhiri\",\"diakhirinya\",\"dialah\",\"diantara\",\"diantaranya\",\"diberi\",\"diberikan\",\"diberikannya\",\"dibuat\",\"dibuatnya\",\"didapat\",\"didatangkan\",\"digunakan\",\"diibaratkan\",\"diibaratkannya\",\"diingat\",\"diingatkan\",\"diinginkan\",\"dijawab\",\"dijelaskan\",\"dijelaskannya\",\"dikarenakan\",\"dikatakan\",\"dikatakannya\",\"dikerjakan\",\"diketahui\",\"diketahuinya\",\"dikira\",\"dilakukan\",\"dilalui\",\"dilihat\",\"dimaksud\",\"dimaksudkan\",\"dimaksudkannya\",\"dimaksudnya\",\"diminta\",\"dimintai\",\"dimisalkan\",\"dimulai\",\"dimulailah\",\"dimulainya\",\"dimungkinkan\",\"dini\",\"dipastikan\",\"diperbuat\",\"diperbuatnya\",\"dipergunakan\",\"diperkirakan\",\"diperlihatkan\",\"diperlukan\",\"diperlukannya\",\"dipersoalkan\",\"dipertanyakan\",\"dipunyai\",\"diri\",\"dirinya\",\"disampaikan\",\"disebut\",\"disebutkan\",\"disebutkannya\",\"disini\",\"disinilah\",\"ditambahkan\",\"ditandaskan\",\"ditanya\",\"ditanyai\",\"ditanyakan\",\"ditegaskan\",\"ditujukan\",\"ditunjuk\",\"ditunjuki\",\"ditunjukkan\",\"ditunjukkannya\",\"ditunjuknya\",\"dituturkan\",\"dituturkannya\",\"diucapkan\",\"diucapkannya\",\"diungkapkan\",\"dong\",\"dua\",\"dulu\",\"empat\",\"enggak\",\"enggaknya\",\"entah\",\"entahlah\",\"guna\",\"gunakan\",\"hal\",\"hampir\",\"hanya\",\"hanyalah\",\"hari\",\"harus\",\"haruslah\",\"harusnya\",\"hendak\",\"hendaklah\",\"hendaknya\",\"hingga\",\"ia\",\"ialah\",\"ibarat\",\"ibaratkan\",\"ibaratnya\",\"ibu\",\"ikut\",\"ingat\",\"ingat-ingat\",\"ingin\",\"inginkah\",\"inginkan\",\"ini\",\"inikah\",\"inilah\",\"itu\",\"itukah\",\"itulah\",\"jadi\",\"jadilah\",\"jadinya\",\"jangan\",\"jangankan\",\"janganlah\",\"jauh\",\"jawab\",\"jawaban\",\"jawabnya\",\"jelas\",\"jelaskan\",\"jelaslah\",\"jelasnya\",\"jika\",\"jikalau\",\"juga\",\"jumlah\",\"jumlahnya\",\"justru\",\"kala\",\"kalau\",\"kalaulah\",\"kalaupun\",\"kalian\",\"kami\",\"kamilah\",\"kamu\",\"kamulah\",\"kan\",\"kapan\",\"kapankah\",\"kapanpun\",\"karena\",\"karenanya\",\"kasus\",\"kata\",\"katakan\",\"katakanlah\",\"katanya\",\"ke\",\"keadaan\",\"kebetulan\",\"kecil\",\"kedua\",\"keduanya\",\"keinginan\",\"kelamaan\",\"kelihatan\",\"kelihatannya\",\"kelima\",\"keluar\",\"kembali\",\"kemudian\",\"kemungkinan\",\"kemungkinannya\",\"kenapa\",\"kepada\",\"kepadanya\",\"kesampaian\",\"keseluruhan\",\"keseluruhannya\",\"keterlaluan\",\"ketika\",\"khususnya\",\"kini\",\"kinilah\",\"kira\",\"kira-kira\",\"kiranya\",\"kita\",\"kitalah\",\"kok\",\"kurang\",\"lagi\",\"lagian\",\"lah\",\"lain\",\"lainnya\",\"lalu\",\"lama\",\"lamanya\",\"lanjut\",\"lanjutnya\",\"lebih\",\"lewat\",\"lima\",\"luar\",\"macam\",\"maka\",\"makanya\",\"makin\",\"malah\",\"malahan\",\"mampu\",\"mampukah\",\"mana\",\"manakala\",\"manalagi\",\"masa\",\"masalah\",\"masalahnya\",\"masih\",\"masihkah\",\"masing\",\"masing-masing\",\"mau\",\"maupun\",\"melainkan\",\"melakukan\",\"melalui\",\"melihat\",\"melihatnya\",\"memang\",\"memastikan\",\"memberi\",\"memberikan\",\"membuat\",\"memerlukan\",\"memihak\",\"meminta\",\"memintakan\",\"memisalkan\",\"memperbuat\",\"mempergunakan\",\"memperkirakan\",\"memperlihatkan\",\"mempersiapkan\",\"mempersoalkan\",\"mempertanyakan\",\"mempunyai\",\"memulai\",\"memungkinkan\",\"menaiki\",\"menambahkan\",\"menandaskan\",\"menanti\",\"menanti-nanti\",\"menantikan\",\"menanya\",\"menanyai\",\"menanyakan\",\"mendapat\",\"mendapatkan\",\"mendatang\",\"mendatangi\",\"mendatangkan\",\"menegaskan\",\"mengakhiri\",\"mengapa\",\"mengatakan\",\"mengatakannya\",\"mengenai\",\"mengerjakan\",\"mengetahui\",\"menggunakan\",\"menghendaki\",\"mengibaratkan\",\"mengibaratkannya\",\"mengingat\",\"mengingatkan\",\"menginginkan\",\"mengira\",\"mengucapkan\",\"mengucapkannya\",\"mengungkapkan\",\"menjadi\",\"menjawab\",\"menjelaskan\",\"menuju\",\"menunjuk\",\"menunjuki\",\"menunjukkan\",\"menunjuknya\",\"menurut\",\"menuturkan\",\"menyampaikan\",\"menyangkut\",\"menyatakan\",\"menyebutkan\",\"menyeluruh\",\"menyiapkan\",\"merasa\",\"mereka\",\"merekalah\",\"merupakan\",\"meski\",\"meskipun\",\"meyakini\",\"meyakinkan\",\"minta\",\"mirip\",\"misal\",\"misalkan\",\"misalnya\",\"mula\",\"mulai\",\"mulailah\",\"mulanya\",\"mungkin\",\"mungkinkah\",\"nih\",\"nah\",\"naik\",\"namun\",\"nanti\",\"nantinya\",\"nyaris\",\"nyatanya\",\"oleh\",\"olehnya\",\"pada\",\"padahal\",\"padanya\",\"pak\",\"paling\",\"panjang\",\"pantas\",\"para\",\"pasti\",\"pastilah\",\"penting\",\"pentingnya\",\"per\",\"percuma\",\"perlu\",\"perlukah\",\"perlunya\",\"pernah\",\"persoalan\",\"pertama\",\"pertama-tama\",\"pertanyaan\",\"pertanyakan\",\"penista\",\"pihak\",\"pihaknya\",\"pukul\",\"pula\",\"pun\",\"punya\",\"rasa\",\"rasanya\",\"rata\",\"rupanya\",\"saat\",\"saatnya\",\"saja\",\"sajalah\",\"saling\",\"sama\",\"sama-sama\",\"sambil\",\"sampai\",\"sampai-sampai\",\"sampaikan\",\"sana\",\"sangat\",\"sangatlah\",\"satu\",\"saya\",\"sayalah\",\"se\",\"sebab\",\"sebabnya\",\"sebagai\",\"sebagaimana\",\"sebagainya\",\"sebagian\",\"sebaik\",\"sebaik-baiknya\",\"sebaiknya\",\"sebaliknya\",\"sebanyak\",\"sebegini\",\"sebegitu\",\"sebelum\",\"sebelumnya\",\"sebenarnya\",\"seberapa\",\"sebesar\",\"sebetulnya\",\"sebisanya\",\"sebuah\",\"sebut\",\"sebutlah\",\"sebutnya\",\"secara\",\"secukupnya\",\"sedang\",\"sedangkan\",\"sedemikian\",\"sedikit\",\"sedikitnya\",\"seenaknya\",\"segala\",\"segalanya\",\"segera\",\"seharusnya\",\"sehingga\",\"seingat\",\"sejak\",\"sejauh\",\"sejenak\",\"sejumlah\",\"sekadar\",\"sekadarnya\",\"sekali\",\"sekali-kali\",\"sekalian\",\"sekaligus\",\"sekalipun\",\"sekarang\",\"sekarang\",\"sekecil\",\"seketika\",\"sekiranya\",\"sekitar\",\"sekitarnya\",\"sekurang-kurangnya\",\"sekurangnya\",\"sela\",\"selain\",\"selaku\",\"selalu\",\"selama\",\"selama-lamanya\",\"selamanya\",\"selanjutnya\",\"seluruh\",\"seluruhnya\",\"semacam\",\"semakin\",\"semampu\",\"semampunya\",\"semasa\",\"semasih\",\"semata\",\"semata-mata\",\"semaunya\",\"sementara\",\"semisal\",\"semisalnya\",\"sempat\",\"semua\",\"semuanya\",\"semula\",\"sendiri\",\"sendirian\",\"sendirinya\",\"seolah\",\"seolah-olah\",\"seorang\",\"sepanjang\",\"sepantasnya\",\"sepantasnyalah\",\"seperlunya\",\"seperti\",\"sepertinya\",\"sepihak\",\"sering\",\"seringnya\",\"serta\",\"serupa\",\"sesaat\",\"sesama\",\"sesampai\",\"sesegera\",\"sesekali\",\"seseorang\",\"sesuatu\",\"sesuatunya\",\"sesudah\",\"sesudahnya\",\"setelah\",\"setempat\",\"setengah\",\"seterusnya\",\"setiap\",\"setiba\",\"setibanya\",\"setidak-tidaknya\",\"setidaknya\",\"setinggi\",\"seusai\",\"sewaktu\",\"siap\",\"siapa\",\"siapakah\",\"siapapun\",\"sini\",\"sinilah\",\"soal\",\"soalnya\",\"suatu\",\"sudah\",\"sudahkah\",\"sudahlah\",\"supaya\",\"tadi\",\"tadinya\",\"tahu\",\"tahun\",\"tak\",\"tambah\",\"tambahnya\",\"tampak\",\"tampaknya\",\"tandas\",\"tandasnya\",\"tanpa\",\"tanya\",\"tanyakan\",\"tanyanya\",\"tapi\",\"tegas\",\"tegasnya\",\"telah\",\"tempat\",\"tengah\",\"tentang\",\"tentu\",\"tentulah\",\"tentunya\",\"tepat\",\"terakhir\",\"terasa\",\"terbanyak\",\"terdahulu\",\"terdapat\",\"terdiri\",\"terhadap\",\"terhadapnya\",\"teringat\",\"teringat-ingat\",\"terjadi\",\"terjadilah\",\"terjadinya\",\"terkira\",\"terlalu\",\"terlebih\",\"terlihat\",\"termasuk\",\"ternyata\",\"tersampaikan\",\"tersebut\",\"tsb\",\"tersebutlah\",\"tertentu\",\"tertuju\",\"terus\",\"terutama\",\"tetap\",\"tetapi\",\"tiap\",\"tiba\",\"tiba-tiba\",\"tidak\",\"tidakkah\",\"tidaklah\",\"tiga\",\"tinggi\",\"toh\",\"tunjuk\",\"turut\",\"tutur\",\"tuturnya\",\"ucap\",\"ucapnya\",\"ujar\",\"ujarnya\",\"ujaran\",\"umum\",\"umumnya\",\"ungkap\",\"ungkapnya\",\"untuk\",\"usah\",\"usai\",\"waduh\",\"wah\",\"wahai\",\"waktu\",\"waktunya\",\"walau\",\"walaupun\",\"wong\",\"ya\",\"yaitu\",\"yakin\",\"yakni\",\"yang\",\"yg\",\"y\",\"gaes\",\"d\",\"kok\",\"hi\",\"b'rt\",\"ga\",\"yg\",\"@detikcom\",\"@detikcom:\",\"b'@detikcom\",\"tdk\",\"dgn\",\"gk\",\"nya\",\"gak\"]"
   ]
  },
  {
   "cell_type": "code",
   "execution_count": 22,
   "id": "72e0eb73",
   "metadata": {},
   "outputs": [],
   "source": [
    "df1 = pd.read_csv(\"./Dataset/hindi-csv.csv\")\n",
    "df2 = pd.read_csv(\"./Dataset/bengali-csv.csv\")\n",
    "df3 = pd.read_csv(\"./Dataset/punjabi-csv.csv\")\n",
    "df4 = pd.read_csv(\"./Dataset/tamil-csv.csv\")\n",
    "df5 = pd.read_csv(\"./Dataset/telugu-csv.csv\")\n",
    "df6 = pd.read_csv(\"./Dataset/kannada-csv.csv\")\n",
    "df7 = pd.read_csv(\"./Dataset/french-csv.csv\")\n",
    "df8 = pd.read_csv(\"./Dataset/turkish.csv\")\n",
    "df9 = pd.read_csv(\"./Dataset/indo.csv\")\n",
    "df10 = pd.read_csv(\"./Dataset/Backup/english-dataset.csv\")"
   ]
  },
  {
   "cell_type": "code",
   "execution_count": 23,
   "id": "6b0babfe",
   "metadata": {},
   "outputs": [],
   "source": [
    "dfArr = [df1,df2,df3,df4,df5,df6,df7,df8,df9,df10]\n",
    "c=1\n",
    "for i in dfArr:\n",
    "    i[\"label\"]=[c for i in range(len(i))]\n",
    "    c=c+1"
   ]
  },
  {
   "cell_type": "code",
   "execution_count": 21,
   "id": "d29ce112",
   "metadata": {},
   "outputs": [
    {
     "data": {
      "text/html": [
       "<div>\n",
       "<style scoped>\n",
       "    .dataframe tbody tr th:only-of-type {\n",
       "        vertical-align: middle;\n",
       "    }\n",
       "\n",
       "    .dataframe tbody tr th {\n",
       "        vertical-align: top;\n",
       "    }\n",
       "\n",
       "    .dataframe thead th {\n",
       "        text-align: right;\n",
       "    }\n",
       "</style>\n",
       "<table border=\"1\" class=\"dataframe\">\n",
       "  <thead>\n",
       "    <tr style=\"text-align: right;\">\n",
       "      <th></th>\n",
       "      <th>text</th>\n",
       "      <th>flag</th>\n",
       "      <th>label</th>\n",
       "    </tr>\n",
       "  </thead>\n",
       "  <tbody>\n",
       "    <tr>\n",
       "      <th>0</th>\n",
       "      <td>पुन: ब्लॉक किया गया खाता संपादित करना व्यापक स...</td>\n",
       "      <td>0</td>\n",
       "      <td>1</td>\n",
       "    </tr>\n",
       "    <tr>\n",
       "      <th>1</th>\n",
       "      <td>हवाई किराया कम क्यों नहीं हो सकता? या, मुझे ट...</td>\n",
       "      <td>1</td>\n",
       "      <td>1</td>\n",
       "    </tr>\n",
       "    <tr>\n",
       "      <th>2</th>\n",
       "      <td>यह धागा: https://t.co/ZydzsHC4Ql - यह जोड़ नही...</td>\n",
       "      <td>0</td>\n",
       "      <td>1</td>\n",
       "    </tr>\n",
       "    <tr>\n",
       "      <th>3</th>\n",
       "      <td>बिस्तर पर जा रहा हूँ ... अभी भी यकीन नहीं है ...</td>\n",
       "      <td>1</td>\n",
       "      <td>1</td>\n",
       "    </tr>\n",
       "    <tr>\n",
       "      <th>4</th>\n",
       "      <td>== कार मलबे की घटनाएं == इस पॉलिन लेख के संदर्...</td>\n",
       "      <td>0</td>\n",
       "      <td>1</td>\n",
       "    </tr>\n",
       "    <tr>\n",
       "      <th>...</th>\n",
       "      <td>...</td>\n",
       "      <td>...</td>\n",
       "      <td>...</td>\n",
       "    </tr>\n",
       "    <tr>\n",
       "      <th>29995</th>\n",
       "      <td>मोरन मोरोन मोरन मोरन मोरन मोरन मोरन मोरन मोरन ...</td>\n",
       "      <td>1</td>\n",
       "      <td>1</td>\n",
       "    </tr>\n",
       "    <tr>\n",
       "      <th>29996</th>\n",
       "      <td>समस्‍या समस्‍या सम्‍पादन पुष्‍ट निष्कासन सामग्...</td>\n",
       "      <td>1</td>\n",
       "      <td>1</td>\n",
       "    </tr>\n",
       "    <tr>\n",
       "      <th>29997</th>\n",
       "      <td>कैथेड्रल शहर स्पेन श्रेणी देखें</td>\n",
       "      <td>0</td>\n",
       "      <td>1</td>\n",
       "    </tr>\n",
       "    <tr>\n",
       "      <th>29998</th>\n",
       "      <td>हैलो जॉर्ज चैट हटाने उल्लेखनीय मिट्टी के बर्तन...</td>\n",
       "      <td>0</td>\n",
       "      <td>1</td>\n",
       "    </tr>\n",
       "    <tr>\n",
       "      <th>29999</th>\n",
       "      <td>@greggarbo यह मुझे आपको वापस संदेश भेजने नहीं...</td>\n",
       "      <td>1</td>\n",
       "      <td>1</td>\n",
       "    </tr>\n",
       "  </tbody>\n",
       "</table>\n",
       "<p>30000 rows × 3 columns</p>\n",
       "</div>"
      ],
      "text/plain": [
       "                                                    text  flag  label\n",
       "0      पुन: ब्लॉक किया गया खाता संपादित करना व्यापक स...     0      1\n",
       "1       हवाई किराया कम क्यों नहीं हो सकता? या, मुझे ट...     1      1\n",
       "2      यह धागा: https://t.co/ZydzsHC4Ql - यह जोड़ नही...     0      1\n",
       "3       बिस्तर पर जा रहा हूँ ... अभी भी यकीन नहीं है ...     1      1\n",
       "4      == कार मलबे की घटनाएं == इस पॉलिन लेख के संदर्...     0      1\n",
       "...                                                  ...   ...    ...\n",
       "29995  मोरन मोरोन मोरन मोरन मोरन मोरन मोरन मोरन मोरन ...     1      1\n",
       "29996  समस्‍या समस्‍या सम्‍पादन पुष्‍ट निष्कासन सामग्...     1      1\n",
       "29997                    कैथेड्रल शहर स्पेन श्रेणी देखें     0      1\n",
       "29998  हैलो जॉर्ज चैट हटाने उल्लेखनीय मिट्टी के बर्तन...     0      1\n",
       "29999   @greggarbo यह मुझे आपको वापस संदेश भेजने नहीं...     1      1\n",
       "\n",
       "[30000 rows x 3 columns]"
      ]
     },
     "execution_count": 21,
     "metadata": {},
     "output_type": "execute_result"
    }
   ],
   "source": [
    "df1"
   ]
  },
  {
   "cell_type": "markdown",
   "id": "137f2cd2",
   "metadata": {},
   "source": [
    "### Hindi stemmer"
   ]
  },
  {
   "cell_type": "code",
   "execution_count": 3,
   "id": "05238aa3",
   "metadata": {},
   "outputs": [],
   "source": [
    "def hindiStemmer(word):\n",
    "    \n",
    "    suffixes = {\n",
    "        1: [u\"ो\",u\"े\",u\"ू\",u\"ु\",u\"ी\",u\"ि\",u\"ा\"],\n",
    "        2: [u\"कर\",u\"ाओ\",u\"िए\",u\"ाई\",u\"ाए\",u\"ने\",u\"नी\",u\"ना\",u\"ते\",u\"ीं\",u\"ती\",u\"ता\",u\"ाँ\",u\"ां\",u\"ों\",u\"ें\"],\n",
    "        3: [u\"ाकर\",u\"ाइए\",u\"ाईं\",u\"ाया\",u\"ेगी\",u\"ेगा\",u\"ोगी\",u\"ोगे\",u\"ाने\",u\"ाना\",u\"ाते\",u\"ाती\",u\"ाता\",u\"तीं\",u\"ाओं\",u\"ाएं\",u\"ुओं\",u\"ुएं\",u\"ुआं\"],\n",
    "        4: [u\"ाएगी\",u\"ाएगा\",u\"ाओगी\",u\"ाओगे\",u\"एंगी\",u\"ेंगी\",u\"एंगे\",u\"ेंगे\",u\"ूंगी\",u\"ूंगा\",u\"ातीं\",u\"नाओं\",u\"नाएं\",u\"ताओं\",u\"ताएं\",u\"ियाँ\",u\"ियों\",u\"ियां\"],\n",
    "        5: [u\"ाएंगी\",u\"ाएंगे\",u\"ाऊंगी\",u\"ाऊंगा\",u\"ाइयाँ\",u\"ाइयों\",u\"ाइयां\"],\n",
    "    } \n",
    "    \n",
    "    for L in range(1,5): \n",
    "        if len(word) >= L + 1:\n",
    "            for suffix in suffixes[L]:\n",
    "                if word.endswith(suffix):\n",
    "                    word=word[:-L] #stripping the suffix from the word\n",
    "        \n",
    "    return word"
   ]
  },
  {
   "cell_type": "markdown",
   "id": "4783300e",
   "metadata": {},
   "source": [
    "### Bengali stemming"
   ]
  },
  {
   "cell_type": "code",
   "execution_count": 13,
   "id": "0215deee",
   "metadata": {},
   "outputs": [],
   "source": [
    "def _stem_verb_step_1(word):\n",
    "    if word.endswith(('ই', 'ছ', 'ত', 'ব', 'ল', 'ন', 'ক', 'স', 'ম')):\n",
    "        return word[:-1]\n",
    "    return word\n",
    "\n",
    "\n",
    "def _stem_verb_step_2(word):\n",
    "    if word.endswith(('লা', 'তা', 'ছি', 'বে', 'তে', 'ছে', 'লে')):\n",
    "        return word[:-2]\n",
    "    return word\n",
    "\n",
    "\n",
    "def _stem_verb_step_3(word):\n",
    "    if word.endswith(('ছি', 'ছে')):\n",
    "        return word[:-2]\n",
    "    return word\n",
    "\n",
    "\n",
    "def _harmonize_verb(word):\n",
    "    if word.endswith('য়ে'):\n",
    "        return word[:-3] + 'ে'\n",
    "    if word.endswith('ই'):\n",
    "        return word[:-2] + 'া'\n",
    "    return word\n",
    "\n",
    "\n",
    "def _stem_verb_step_4(word):\n",
    "    if len(word) > 1 and not word.endswith(('ই', 'য়ে', 'ও')):\n",
    "        if word.endswith(('া', 'ে', 'ি')):\n",
    "            return word[:-1]\n",
    "        return word\n",
    "    else:\n",
    "        return _harmonize_verb(word)\n",
    "\n",
    "\n",
    "def bengaliStem(word):\n",
    "    stemmed = _stem_verb_step_1(word)\n",
    "    stemmed = _stem_verb_step_2(stemmed)\n",
    "    stemmed = _stem_verb_step_3(stemmed)\n",
    "    stemmed = _stem_verb_step_4(stemmed)\n",
    "    return stemmed"
   ]
  },
  {
   "cell_type": "markdown",
   "id": "78709be2",
   "metadata": {},
   "source": [
    "### Punjabi stemming"
   ]
  },
  {
   "cell_type": "code",
   "execution_count": 14,
   "id": "4015ab2e",
   "metadata": {},
   "outputs": [],
   "source": [
    "class Punjabi:\n",
    "    \n",
    "    #Punjabi Stemmer Class\n",
    "    \n",
    "\n",
    "    def __init__(self):\n",
    "        self.suffixes = {1: [\"ੀ ਆਂ \", \"िਆਂ\", \"ੂਆਂ\", \"ੀ ਏ\", \"ੀ ਓ\"],\n",
    "                         2: [\"ਈ\", \"ੇ\", \"ू\", \"ु\", \"ी\",\"ਏ\"\n",
    "                             \"ि\", \"ा\", \"ੋ\", \"ਜ\", \"ਜ਼\", \"ਸ\"],\n",
    "                         3: [\"िਓ\", \"ਾ ਂ\", \"ੀ ਂ\", \"ੋ ਂ\",\"ਏ\"],\n",
    "                         4: [\"ਿਉ ਂ\", \"ਵਾਂ\" ],\n",
    "                         5: [\"ੀ ਆ\", \"िਆ\", \"ਈਆ\"]}\n",
    "\n",
    "    def rreplace(self,string, old, new, count=None):\n",
    "      # for replacing old string with new string\n",
    "        string_reverse = string[::-1]\n",
    "        old_reverse = old[::-1]\n",
    "        new_reverse = new[::-1]\n",
    "        if count:\n",
    "            final_reverse = string_reverse.replace(old_reverse, new_reverse, count)\n",
    "        else:\n",
    "            final_reverse = string_reverse.replace(old_reverse, new_reverse)\n",
    "        result = final_reverse[::-1]\n",
    "        return result\n",
    "    \n",
    "    def gen_replacement(self, suf, L):\n",
    "        if L == 1 or L == 5:\n",
    "            return suf[1:]\n",
    "        return suf\n",
    "\n",
    "    def stem(self, text):\n",
    "      # function for stemming the words\n",
    "        tag = [1,2,3,4,5]\n",
    "        tag.reverse()\n",
    "        res = []\n",
    "   \n",
    "        for word in text.split():\n",
    "            flag = 0\n",
    "            for L in tag:\n",
    "                if flag == 1:\n",
    "                    break\n",
    "                if len(word) > L + 1:  #checking for minimum 3 letter words\n",
    "                    for suf in self.suffixes[L]:\n",
    "                        if word.endswith(suf):\n",
    "                            word1 = self.rreplace(word,self.gen_replacement(suf,L), '', 1)\n",
    "                            res.append(word1)\n",
    "                            flag = 1\n",
    "                            break\n",
    "            if flag == 0:\n",
    "              #for word length less than 3 (stop words)\n",
    "                res.append(word)\n",
    "        return res\n",
    "obj = Punjabi()"
   ]
  },
  {
   "cell_type": "markdown",
   "id": "e866c9c2",
   "metadata": {},
   "source": [
    "### Kannada stemming"
   ]
  },
  {
   "cell_type": "code",
   "execution_count": 15,
   "id": "60bba716",
   "metadata": {},
   "outputs": [],
   "source": [
    "complex_suffixes = {\n",
    "1 : [\"ಳಿದ್ದೆ\",\"ಳಲಿಲ್ಲ\",\"ಳಿದ್ದೆನ\",\"ಳಿದೆನ\"],\n",
    "2 : [\"ದಿದೆವು\",\"ದಲಿಲ್ಲ\",\"ದಿದೆವ\"],\n",
    "3 : [\"ಯಲಿಲ್ಲ\"],\n",
    "4 : [\"ಯಾಗಿದ್ದರು\",\"ವಾಗಿದ್ದರು\",\"ತಾಗಿದ್ದರು\",\"ದಾಗಿದ್ದರು\",\"ದಿದ್ದರು\",\"ಲಿಲ್ಲ\",\"ದ್ದರಾ\"],\n",
    "5 : [\"ಯಲಿಲ್ಲ\",\"ಲಿಲ್ಲ\",\"ದನ\",\"ದನಾ\"],\n",
    "6 : [\"ದಿದ್ದೆ\",\"ಡಿದ್ದೆ\",\"ರಲಿಲ್ಲ\",\"ದ್ದೆನ\",\"ದ್ದೆನಾ\"],\n",
    "7 : [\"ದಿದ್ವಿ\",\"ರಲಿಲ್ಲ\",\"ದಿದ್ವಾ\"],\n",
    "8 : [\"ದಿದ್ದೆ\",\"ಯುತ್ತಿದ್ದೆ\",\"ತ್ತಿದ್ದವರು\",\"ತ್ತಿದ್ದೆ\",\"ತಿದ್ದೆ\",\"ಯುತ್ತದೆ\",\"ತ್ತದೆ\",\"ಯುತ್ತಿರಲಿಲ್ಲ\",\"ತ್ತಿರಲಿಲ್ಲ\",\"ತಿರಲಿಲ್ಲ\",\"ದಿರಲಿಲ್ಲ\",\"ದ್ದಿದ್ದಾ\",\"ಯುತ್ತಿದ್ದಾ\",\"ತ್ತಿದ್ದಾ\"],\n",
    "9 : [\"ದಿದ್ದರು\"],\n",
    "10 : [\"ದಿದ್ದ\",\"ದಿದ್ದನು\",\"ದಿದ್ದಳು\"],\n",
    "11 : [\"ತ್ತಿದ್ದೆನೆ\"],\n",
    "12 : [\"ಯುತ್ತಿದ್ದೆವು\",\"ತ್ತಿದ್ದೆವು\",\"ಯುತ್ತಿದ್ದೆವ\",\"ತ್ತಿದ್ದೆವ\"],\n",
    "13 : [\"ತ್ತಿದ್ದೆ\",\"ತಿರಲಿಲ್ಲ\",\"ತ್ತಿದ್ದ\",\"ತ್ತಿದ್ದಾ\"],\n",
    "14 : [\"ತ್ತಿದ್ದರು\",\"ತ್ತಿರಲಿಲ್ಲ\",\"ತ್ತಿದ್ದರ\",\"ತ್ತಿದ್ದಾರಾ\"],\n",
    "15 : [\"ಯುತ್ತಿದ್ದನ\",\"ಯುತ್ತಿದ್ದನಾ\",\"ಯುತ್ತಿದ್ದಳು\",\"ಯುತ್ತಿದ್ದನು\",\"ಯುತ್ತಿದ್ದಳ\",\"ಯುತ್ತಿದ್ದನ\",\"ಯುತ್ತಿದ್ದಳೆ\",\"ಯುತ್ತಿದ್ದನೆ\",\"ತ್ತಿದ್ದನ\",\"ತ್ತಿದ್ದನಾ\",\"ತ್ತಿದ್ದಳು\",\"ತ್ತಿದ್ದನು\",\"ತ್ತಿದ್ದಳ\",\"ತ್ತಿದ್ದನ\",\"ತ್ತಿದ್ದಳೆ\",\"ತ್ತಿದ್ದನೆ\"],\n",
    "16 : [\"ತ್ತಿದ್ದೆ\",\"ತ್ತಿರಲಿಲ್ಲ\",\"ತ್ತಿದ್ದೆನ\",\"ತ್ತಿದ್ದೆನಾ\"],\n",
    "17 : [\"ಯುತ್ತಿದ್ದೆವೆ\",\"ತ್ತಿದ್ದೆವೆ\",\"ಯುತ್ತಿದ್ದೆವು\",\"ತ್ತಿದ್ದೆವು\"],\n",
    "18 : [\"ತ್ತಿದ್ದೆ\",\"ತ್ತಿದ್ದೆವು\",\"ತ್ತಿರಲಿಲ್ಲ\",\"ತ್ತಿದ್ದಾ\"],\n",
    "19 : [\"ತ್ತಿದ್ದರು\",\"ತ್ತಿದ್ದರು\"],\n",
    "20 : [\"ತ್ತಿಲ್ಲ\",\"ತ್ತಿದ್ದಳ\",\"ತ್ತಿದ್ದಳು\",\"ತ್ತಿದ್ದನ\",\"ತ್ತಿದ್ದನು\",\"ತ್ತಿದ್ದಾರೆ\"],\n",
    "21 : [\"ರುತ್ತೆನೆ\",\"ತ್ತೆನೆ\",\"ದಿಲ್ಲ\",\"ಯಲ್ವಾ\"],\n",
    "22 : [\"ರುತ್ತೆವೆ\",\"ರುತ್ತೇವೆ\",\"ರುವುದಿಲ್ಲ\",\"ರುತ್ತೇವ\",\"ರುತ್ತೆವ\",\"ತ್ತೆವೆ\",\"ತ್ತೇವೆ\",\"ವುದಿಲ್ಲ\",\"ತ್ತೇವ\",\"ತ್ತೆವ\"],\n",
    "23 : [\"ತ್ತೀಯ\",\"ವುದಿಲ್ಲ\",\"ತ್ತಿಯ\"],\n",
    "24 : [\"ತ್ತಾರೆ\",\"ತ್ತಾರ\"],\n",
    "25 : [\"ತ್ತಾನೆ\",\"ತ್ತಾಳೆ\",\"ವುದಿಲ್ಲ\"],\n",
    "26 : [\"ದ್ದಿನಿ\",\"ದ್ದೆನೆ\",\"ದಿಲ್ಲ\",\"ತ್ತಿದ್ದೆ\",\"ಲ್ಲವ\",\"ದೆನ\"],\n",
    "27 : [\"ದ್ದೆವೆ\",\"ದ್ದೆವ\"],\n",
    "28 : [\"ಡಿದ್ದೀಯ\"],\n",
    "29 : [\"ತ್ತಿದ್ದಾರ\",\"ತ್ತಿದ್ದಾರೆ\"],\n",
    "30 : [\"ಯಾಗಿದೆ\",\"ಯಾಗಿಲ್ಲ\"],\n",
    "31 : [\"ತ್ತಿದ್ದೆನೆ\",\"ತ್ತೆನೆ\",\"ತ್ತೇನೆ\",\"ತ್ತಿದ್ದೇನೆ\",\"ತ್ತಿಲ್ಲ\",\"ತ್ತಿದ್ದೆನ\"],\n",
    "32 : [\"ತ್ತಿದ್ದೇವೆ\",\"ತ್ತೇವೆ\",\"ತ್ತಿಲ್ಲ\",\"ತ್ತಿದ್ದೇವೆ\",\"ತ್ತಿದ್ದೇವ\"],\n",
    "33 : [\"ಯುತ್ತಿದ್ದೀಯ\",\"ಯುತ್ತೀಯ\",\"ಯುತ್ತಿರುವೆ\",\"ಯುತ್ತಿಲ್ಲ\",\"ಯುವುದಿಲ್ಲ\",\"ತ್ತಿದಿಯ\"],\n",
    "34 : [\"ತಿದರೆ\",\"ತ್ತಿದ್ದಾರೆ\",\"ತ್ತಿಲ್ಲ\",\"ತ್ತಿದ್ದಾರ\",\"ತಿರುವರ\"],\n",
    "35 : [\"ತ್ತಿದ್ದಾನೆ\",\"ತ್ತಿದ್ದಾಳೆ\",\"ತ್ತಾನೆ\",\"ತ್ತಾಳೆ\",\"ತ್ತಿದ್ದಾನ\",\"ತ್ತಿದ್ದಾಳ\",\"ತ್ತಿಲ್ಲ\"],\n",
    "36 : [\"ತ್ತಿದ್ದೀನಿ\",\"ತ್ತಿರುವೆ\",\"ತ್ತಿಲ್ಲ\",\"ತ್ತಿದ್ದೀನಿ\",\"ತ್ತಿಲ್ಲವೆ\",\"ತ್ತಿದ್ದೇನೆ\"],\n",
    "37 : [\"ತ್ತಿದ್ದೇವೆ\",\"ತ್ತಿರುವ\",\"ತ್ತಿರುವೆವು\",\"ತ್ತಿರುವೆವ\",\"ತ್ತಿದ್ದೇವ\",\"ತ್ತಿದೇವ\",\"ತ್ತಿಲ್ಲವ\",\"ತ್ತಿಲ್ಲವಾ\"],\n",
    "38 : [\"ತ್ತಿದೀಯ\",\"ತ್ತಿಲ್ಲ\",\"ತ್ತಿರುವೆಯ\",\"ತ್ತಿದ್ದೆಯ\",\"ತ್ತಿಲ್ಲವ\"],\n",
    "39 : [\"ದಲ್ಲಿದೆ\",\"ಯಲ್ಲಿದೆ\",\"ರಲ್ಲಿದೆ\"],\n",
    "40 : [\"ತ್ತಿದ್ದಾನೆ\",\"ತ್ತಿದ್ದಾಳೆ\",\"ತ್ತಿದ್ದಾಳ\",\"ತ್ತಿದ್ದಾನೆ\"],\n",
    "41 : [\"ಯಾದರೆ\",\"ಗಾದರೆ\",\"ವುದಾದರೆ\",\"ದಾದರೆ\"],\n",
    "42 : [\"ಯಾಗಿಯೇ\",\"ಗಾಗಿಯೇ\",\"ದಾಗಿಯೇ\",\"ವಾಗಿಯೇ\"],\n",
    "43 : [\"ವಾದರು\",\"ಗಾದರು\",\"ತಾದರು\",\"ದಾದರು\",\"ಯಾದರು\",\"ರಾದರು\",\"ಲಾದರು\",\"ಳಾದರು\",\"ವಾದರೂ\",\"ಗಾದರೂ\",\"ತಾದರೂ\",\"ದಾದರೂ\",\"ಯಾದರೂ\",\"ರಾದರೂ\",\"ಲಾದರರೂ\",\"ಳಾದರೂ\"],\n",
    "44 : [\"ತ್ತಿದ್ದರಂತೆ\",\"ದೊಂದಿಗೆ\",\"ಯೊಂದಿಗೆ\",\"ರೊಂದಿಗೆ\"],\n",
    "45 : [\"ಗಿದ್ದನು\",\"ಗಿದ್ದಳು\",\"ಗಿದ್ದರು\",\"ಗಿದ್ದರೂ\",\"ತಾದ್ದನು\",\"ತಾದ್ದಳು\",\"ತಾದ್ದರು\",\"ತಾದ್ದರೂ\",\"ದಾದ್ದನು\",\"ದಾದ್ದಳು\",\"ದಾದ್ದರು\",\"ದಾದ್ದರೂ\"],\n",
    "46 : [\"ಯೊಂದೆ\",\"ವೊಂದೆ\",\"ರೊಂದೆ\",\"ವೊಂದ\",\"ಯೊಂದ\",\"ರೊಂದ\",\"ವುದೇ\"],\n",
    "47 : [\"ಯುವವರ\",\"ರುವವರ\",\"ಸುವವರ\"],\n",
    "48 : [\"ದಲ್ಲೇ\",\"ನಲ್ಲೇ\",\"ನಲ್ಲಿ\",\"ವಲ್ಲಿ\",\"ದಲ್ಲಿ\",\"ದಲ್ಲೂ\",\"ಯಲ್ಲಿ\",\"ರಲ್ಲಿ\",\"ಗಳಲ್ಲಿ\",\"ಳಲ್ಲಿ\",\"ಯಲ್ಲಿನ\"],\n",
    "49 : [\"ವವರು\",\"ಯವರು\",\"ನವರು\",\"ರವರು\",\"ದವರು\",\"ವವ\",\"ಯವ\",\"ನವ\",\"ರವ\",\"ದವ\"],\n",
    "50 : [\"ಗಾಗಿ\",\"ದಾಗಿ\",\"ವಾಗಿ\",\"ರಾಗಿ\",\"ಯಾಗಿ\",\"ತಾಗಿ\",\"ಕ್ಕಾಗಿ\",\"ವಾಗಿದ್ದು\",\"ವಾಗಿದ್ದ\",\"ಗಾಗಿದ್ದು\",\"ಗಾಗಿದ್ದ\",\"ರಾಗಿದ್ದು\",\"ರಾಗಿದ್ದ\",\"ದಾಗಿದ್ದು\",\"ದಾಗಿದ್ದ\",\"ತಾಗಿದ್ದು\",\"ತಾಗಿದ್ದ\"],\n",
    "51 : [\"ರನ್ನ\",\"ನನ್ನ\",\"ಯನ್ನ\"],\n",
    "52 : [\"ರನ್ನು\",\"ವನ್ನು\",\"ಯನ್ನು\",\"ಗಳನ್ನೇ\",\"ಗಳನ್ನು\",\"ಳನ್ನು\",\"ದನ್ನು\"] ,\n",
    "53 : [\"ವಿರುವ\",\"ರುವ\",\"ದ್ದರೆ\",\"ದ್ದಾರೆ\"],\n",
    "54 : [\"ತ್ತಾರಂತೆ\",\"ತ್ತಾಳಂತೆ\",\"ತ್ತಾನಂತೆ\",\"ಗಂತೆ\",\"ದ್ದಂತೆ\",\"ದಂತೆ\",\"ನಂತೆ\",\"ರಂತೆ\",\"ಯಂತೆ\",\"ಗಳಂತೆ\",\"ಳಂತೆ\",\"ವಂತೆ\"],\n",
    "55 : [\"ಗಳೆಂದು\",\"ಗಂ\",\"ದ್ದಂ\",\"ದಂ\",\"ಯಂ\",\"ರಂ\",\"ವಂ\",\"ಗಿಂದ\",\"ದಿಂದ\",\"ಯಿಂದ\",\"ರಿಂದ\",\"ನಿಂದ\"],\n",
    "56 : [\"ನಿಗೆ\",\"ರಿಗೆ\",\"ಯಿಗೆ\",\"ಕೆಗೆ\"],\n",
    "57: [\"ದ್ದೇನೆ\",\"ದ್ದಾನೆ\",\"ದ್ದಾಳೆ\",\"ದ್ದಾರೆ\",\"ದಾಗ\"],\n",
    "58 : [\"ವಿದೆ\" ,\"ದಿದೆ\",\"ತಿದೆ\",\"ಗಿದೆ\"],\n",
    "59 : [\"ತ್ತಿರು\",\"ವೆಂದು\"],\n",
    "60 : [\"ನನ್ನೂ\",\"ಳನ್ನೂ\",\"ರನ್ನೂ\"],\n",
    "61 : [\"ಯಾಯಿತು\", \"ಗಾಯಿತು\",\"ದಾಯಿತು\"],\n",
    "62 : [\"ದ್ದನು\",\"ದ್ದಳು\",\"ಯಿದ್ದರು\",\"ದ್ದರು\",\"ದ್ದರೂ\",\"ಗಳೇ\",\"ಗಳು\",\"ಗಳ\",\"ಗಳಿ\",\"ದಳು\",\"ದಳ\",\"ವೆನು\",\"ವನು\",\"ವೆವು\",\"ವಳು\",\"ವಳ\",\"ವುದು\",\"ಲಾಗು\",\"ಗಳಾದ\",\"ಗಳಿಗೆ\"],\n",
    "63 : [\"ವುದಕ್ಕೆ\",\"ಕ್ಕೆ\",\"ಗ್ಗಿ\",\"ದ್ದಿ\",\"ಲ್ಲಿ\",\"ನ್ನು\",\"ತ್ತು\"],\n",
    "64 : [\"ವಾಯಿತು\",\"ಗಾಯಿತು\",\"ದಾಯಿತು\",\"ತಾಯಿತು\",\"ಲಾಯಿತು\",\"ನಾಯಿತು\"],\n",
    "65 : [\"ವಿದ್ದು\",\"ವೆಂದಾಗ\"],\n",
    "66 : [\"ವನ್ನೇ\",\"ವೇಕೆ\"],\n",
    "67 : [\"ರಾದ\",\"ವಾದ\",\"ಗಾದ\",\"ಯಾದ\",\"ರಾಗುವ\"],\n",
    "68 : [\"ವಾದುದು\", \"ರಾದುದು\",\"ಗಾದುದು\",\"ಯಾದುದು\",\"ದಾದುದು\"],\n",
    "69 : [\"ಯಾರು\",\"ದಾರು\",\"ಗಾರು\",\"ರಾರು\"],\n",
    "70 : [\"ಗಳಿಸಿ\",\"ಗಳಿಸು\",\"ಗಳಿವೆ\",\"ಗಳಿವ\",\"ಗಳಿವು\"],\n",
    "71 :  [\"ಯು\",\"ದ\",\"ವಿಕೆ\",\"ದೇ\",\"ರು\",\"ಳ\",\"ಳೆ\",\"ಲಿದೆ\",\"ದೆ\",\"ರೆ\",\"ಗೆ\",\"ವೆ\",\"ತೆ\",\"ಗೂ\"],\n",
    "72 :  [\"ರದ\",\"ಮದ\",\"ನದ\"],\n",
    "73 :  [\"ಡಲು\",\"ಲಾಗುತ್ತದೆ\",\"ಸಲು\",\"ಸಿದ್ದಾಳೆ\",\"ಸಿದಾಗ\",\"ಸಲು\",\"ಸಿದರು\",\"ಸಿದನು\",\"ಸಿದಳು\",\"ಸಿದ್ದೇ\",\"ಕಿದೀನಿ\"]}\n",
    "add_1 = [\"ು\"]\n",
    "def kannadaStemmer(word):\n",
    "    flag =0\n",
    "\n",
    "    #checking for suffixes which needs to be retained\n",
    "    for L in complex_suffixes[72]:\n",
    "        if len(word) > len(L)+1:\n",
    "            if word.endswith(L):\n",
    "#                 inde.append(72)\n",
    "                return(word[:-(len(L)-1)])\n",
    "\n",
    "    #checking for suffixes which needs to retained and modified \n",
    "    for L in complex_suffixes[73]:\n",
    "        if len(word) > len(L)+1:\n",
    "            if word.endswith(L):\n",
    "                flag=1\n",
    "                word =word[:-(len(L)-1)]\n",
    "                word = word+add_1[0]\n",
    "#                 inde.append(73)\n",
    "                return(kannadaStemmer(word))   \n",
    "\n",
    "    #checking for suffixes which must be removed    \n",
    "    L=1\n",
    "    while L<=70:\n",
    "        for suffix in complex_suffixes[L]:\n",
    "            if len(word) > len(suffix)+1: \n",
    "                    if word.endswith(suffix):\n",
    "                        flag=1\n",
    "#                         inde.append(L)\n",
    "                        return(kannadaStemmer(word[:-(len(suffix))]))\n",
    "        L = L+1\n",
    "\n",
    "    if flag == 0:\n",
    "        for L in complex_suffixes[71]:\n",
    "            if len(word)-len(L) >len(L)+1:\n",
    "                if word.endswith(L):\n",
    "#                     inde.append(71)\n",
    "                    return(word[:-(len(L))])\n",
    "        \n",
    "    return word"
   ]
  },
  {
   "cell_type": "markdown",
   "id": "e75f299a",
   "metadata": {},
   "source": [
    "## Text Processing"
   ]
  },
  {
   "cell_type": "code",
   "execution_count": 25,
   "id": "c1d9407e",
   "metadata": {
    "scrolled": true
   },
   "outputs": [],
   "source": [
    "def processor(text,label):\n",
    "    text = str(text)\n",
    "    \n",
    "    url_pattern = re.compile(r'https?://\\S+|www\\.\\S+')\n",
    "    text = url_pattern.sub(r'', text)\n",
    "    html_pattern = re.compile('<.*?>')\n",
    "    text =  html_pattern.sub(r'', text)\n",
    "    text = re.sub(r'[\\.;:\\`\\~=\\[\\]\\_\\-,\\?\\\"\\'\\/!]','',text)\n",
    "    emoj = re.compile(\"[\"\n",
    "        u\"\\U0001F600-\\U0001F64F\"  \n",
    "        u\"\\U0001F300-\\U0001F5FF\"  \n",
    "        u\"\\U0001F680-\\U0001F6FF\"  \n",
    "        u\"\\U0001F1E0-\\U0001F1FF\"  \n",
    "        u\"\\U00002500-\\U00002BEF\"  \n",
    "        u\"\\U00002702-\\U000027B0\"\n",
    "        u\"\\U00002702-\\U000027B0\"\n",
    "        u\"\\U000024C2-\\U0001F251\"\n",
    "        u\"\\U0001f926-\\U0001f937\"\n",
    "        u\"\\U00010000-\\U0010ffff\"\n",
    "        u\"\\u2640-\\u2642\" \n",
    "        u\"\\u2600-\\u2B55\"\n",
    "        u\"\\u200d\"\n",
    "        u\"\\u23cf\"\n",
    "        u\"\\u23e9\"\n",
    "        u\"\\u231a\"\n",
    "        u\"\\ufe0f\"  # dingbats\n",
    "        u\"\\u3030\"\n",
    "                      \"]+\", re.UNICODE)\n",
    "    text =  re.sub(emoj, '', text)\n",
    "    \n",
    "    text = ' '.join(re.sub(\"/\\r?\\[a-z]/\",\" \", text).split())\n",
    "    text = ' '.join(re.sub(\"([@#][A-Za-z0-9_]+)|(\\w+:\\/\\/\\S+)\",\" \", text).split())\n",
    "    token = text.split(\" \")\n",
    "    if label == 1:\n",
    "        token = [i for i in token if i not in hinStop] \n",
    "        token = [hindiStemmer(i) for i in token]\n",
    "        \n",
    "    elif label == 2:\n",
    "        token = [i for i in token if i not in benStop]\n",
    "        token = [bengaliStem(i) for i in token]\n",
    "    \n",
    "    elif label == 3:\n",
    "        token = [i for i in token if i not in punStop]\n",
    "        token = obj.stem(\" \".join(token))\n",
    "    \n",
    "    elif label == 4:\n",
    "        token = [i for i in token if i not in tamStop]\n",
    "        nlp = stanza.Pipeline(lang='ta', processors='tokenize,mwt,pos,lemma')\n",
    "        doc = nlp(\" \".join(token))\n",
    "        token = [word.lemma for sent in doc.sentences for word in  sent.words]\n",
    "    \n",
    "    elif label == 5:\n",
    "        token = [i for i in token if i not in telStop] #done\n",
    "        nlp = stanza.Pipeline(lang='te', processors='tokenize,pos,lemma')\n",
    "        doc = nlp(\" \".join(token))\n",
    "        token = [word.lemma for sent in doc.sentences for word in  sent.words]\n",
    "    \n",
    "    elif label == 6:\n",
    "        token = [i for i in token if i not in kanStop]\n",
    "        token = [kannadaStemmer(i) for i in token]\n",
    "    \n",
    "    elif label == 7:\n",
    "        token = [i for i in token if i not in freStop] #done\n",
    "        snow_stemmer = SnowballStemmer(language='french')\n",
    "        token = [snow_stemmer.stem(i) for i in token]\n",
    "    \n",
    "    elif label == 8:\n",
    "        token = [i for i in token if i not in turStop] #done\n",
    "        stemmer = TurkishStemmer()\n",
    "        token = [stemmer.stem(i) for i in token]\n",
    "    \n",
    "    elif label == 9:\n",
    "        token = [i for i in token if i not in indStop]\n",
    "        nlp = stanza.Pipeline(lang='id', processors='tokenize,mwt,pos,lemma')\n",
    "        doc = nlp(\" \".join(token))\n",
    "        token = [word.lemma for sent in doc.sentences for word in  sent.words]\n",
    "    \n",
    "    elif label == 10:\n",
    "        engStop = list(set(stopwords.words('english')))\n",
    "        token = [i for i in token if i not in engStop] #done\n",
    "        snow_stemmer = SnowballStemmer(language='english')\n",
    "        token = [snow_stemmer.stem(i) for i in token]\n",
    "    \n",
    "    return \" \".join(token)"
   ]
  },
  {
   "cell_type": "code",
   "execution_count": 24,
   "id": "ca00ffa5",
   "metadata": {},
   "outputs": [
    {
     "name": "stdout",
     "output_type": "stream",
     "text": [
      "\n"
     ]
    }
   ],
   "source": [
    "df = pd.concat([df1,df2,df3,df4,df5,df6,df7,df8,df9,df10])\n",
    "df[\"processed\"] = df(processor(df.text, df.label))\n",
    "df.drop(\"label\", axis=,inplace=True)"
   ]
  },
  {
   "cell_type": "markdown",
   "id": "6c724e42",
   "metadata": {},
   "source": [
    "### Model Training"
   ]
  },
  {
   "cell_type": "code",
   "execution_count": 3,
   "id": "7d720d3e",
   "metadata": {},
   "outputs": [],
   "source": [
    "from tensorflow.keras.layers import Embedding\n",
    "from tensorflow.keras.preprocessing.sequence import pad_sequences\n",
    "from tensorflow.keras.models import Sequential\n",
    "from tensorflow.keras.preprocessing.text import one_hot\n",
    "from tensorflow.keras.layers import LSTM\n",
    "from tensorflow.keras.layers import Dense\n",
    "from tensorflow.keras.layers import Bidirectional\n",
    "from tensorflow.keras.layers import Dropout\n",
    "from tensorflow.keras.layers import GRU,Conv1D,MaxPooling1D,Flatten,GlobalMaxPooling1D,SimpleRNN,MaxPool1D\n",
    "from tensorflow.keras.callbacks import EarlyStopping\n",
    "import tensorflow as tf"
   ]
  },
  {
   "cell_type": "code",
   "execution_count": 4,
   "id": "603a3b9a",
   "metadata": {},
   "outputs": [],
   "source": [
    "df1 = pd.read_csv(\"./Dataset/hindi-csv.csv\")\n",
    "df2 = pd.read_csv(\"./Dataset/bengali-csv.csv\")\n",
    "df3 = pd.read_csv(\"./Dataset/punjabi-csv.csv\")\n",
    "df4 = pd.read_csv(\"./Dataset/tamil-csv.csv\")\n",
    "df5 = pd.read_csv(\"./Dataset/telugu-csv.csv\")\n",
    "df6 = pd.read_csv(\"./Dataset/kannada-csv.csv\")\n",
    "df7 = pd.read_csv(\"./Dataset/french-csv.csv\")\n",
    "df8 = pd.read_csv(\"./Dataset/turkish.csv\")\n",
    "df9 = pd.read_csv(\"./Dataset/indo.csv\")\n",
    "df10 = pd.read_csv(\"./Dataset/Backup/english-dataset.csv\")"
   ]
  },
  {
   "cell_type": "code",
   "execution_count": 6,
   "id": "9caf263b",
   "metadata": {},
   "outputs": [
    {
     "data": {
      "text/html": [
       "<div>\n",
       "<style scoped>\n",
       "    .dataframe tbody tr th:only-of-type {\n",
       "        vertical-align: middle;\n",
       "    }\n",
       "\n",
       "    .dataframe tbody tr th {\n",
       "        vertical-align: top;\n",
       "    }\n",
       "\n",
       "    .dataframe thead th {\n",
       "        text-align: right;\n",
       "    }\n",
       "</style>\n",
       "<table border=\"1\" class=\"dataframe\">\n",
       "  <thead>\n",
       "    <tr style=\"text-align: right;\">\n",
       "      <th></th>\n",
       "      <th>text</th>\n",
       "      <th>flag</th>\n",
       "      <th>processed</th>\n",
       "    </tr>\n",
       "  </thead>\n",
       "  <tbody>\n",
       "    <tr>\n",
       "      <th>0</th>\n",
       "      <td>पुन: ब्लॉक किया गया खाता संपादित करना व्यापक स...</td>\n",
       "      <td>0</td>\n",
       "      <td>रीब्लॉक अकाउंट को फिर से ब्लॉक करें संपादित कर...</td>\n",
       "    </tr>\n",
       "    <tr>\n",
       "      <th>1</th>\n",
       "      <td>हवाई किराया कम क्यों नहीं हो सकता? या, मुझे ट...</td>\n",
       "      <td>1</td>\n",
       "      <td>मैं एयरफार नहीं जा सकता या मैं टेक्सास नहीं रह...</td>\n",
       "    </tr>\n",
       "    <tr>\n",
       "      <th>2</th>\n",
       "      <td>यह धागा: https://t.co/ZydzsHC4Ql - यह जोड़ नही...</td>\n",
       "      <td>0</td>\n",
       "      <td>यह धागा नहीं जोड़ता है क्या मुझे कुछ याद आ रहा है</td>\n",
       "    </tr>\n",
       "    <tr>\n",
       "      <th>3</th>\n",
       "      <td>बिस्तर पर जा रहा हूँ ... अभी भी यकीन नहीं है ...</td>\n",
       "      <td>1</td>\n",
       "      <td>हेड बेडस्टिल श्योर ट्विटर वर्क नून समझाएं</td>\n",
       "    </tr>\n",
       "    <tr>\n",
       "      <th>4</th>\n",
       "      <td>== कार मलबे की घटनाएं == इस पॉलिन लेख के संदर्...</td>\n",
       "      <td>0</td>\n",
       "      <td>कार व्रेक घटनाएं एनी उपयोग विस्तार से सार्वजनि...</td>\n",
       "    </tr>\n",
       "    <tr>\n",
       "      <th>...</th>\n",
       "      <td>...</td>\n",
       "      <td>...</td>\n",
       "      <td>...</td>\n",
       "    </tr>\n",
       "    <tr>\n",
       "      <th>1395</th>\n",
       "      <td>@ivicong ikaw nga bully diyan eh. CROOK!</td>\n",
       "      <td>0</td>\n",
       "      <td>ikaw nga bulli diyan eh crook</td>\n",
       "    </tr>\n",
       "    <tr>\n",
       "      <th>1396</th>\n",
       "      <td>Never been so pissed off.</td>\n",
       "      <td>0</td>\n",
       "      <td>never piss</td>\n",
       "    </tr>\n",
       "    <tr>\n",
       "      <th>1397</th>\n",
       "      <td>Still think the course needs some work. It was...</td>\n",
       "      <td>0</td>\n",
       "      <td>still think cours need work it great half cour...</td>\n",
       "    </tr>\n",
       "    <tr>\n",
       "      <th>1398</th>\n",
       "      <td>RT @narryyymate: Drasko and Steve are trying t...</td>\n",
       "      <td>0</td>\n",
       "      <td>rt drasko steve tri impress collin bad</td>\n",
       "    </tr>\n",
       "    <tr>\n",
       "      <th>1399</th>\n",
       "      <td>RT @mirahimage: @freebsdgirl hoping they don't...</td>\n",
       "      <td>0</td>\n",
       "      <td>rt hope dont need speak buri</td>\n",
       "    </tr>\n",
       "  </tbody>\n",
       "</table>\n",
       "<p>271392 rows × 3 columns</p>\n",
       "</div>"
      ],
      "text/plain": [
       "                                                   text  flag  \\\n",
       "0     पुन: ब्लॉक किया गया खाता संपादित करना व्यापक स...     0   \n",
       "1      हवाई किराया कम क्यों नहीं हो सकता? या, मुझे ट...     1   \n",
       "2     यह धागा: https://t.co/ZydzsHC4Ql - यह जोड़ नही...     0   \n",
       "3      बिस्तर पर जा रहा हूँ ... अभी भी यकीन नहीं है ...     1   \n",
       "4     == कार मलबे की घटनाएं == इस पॉलिन लेख के संदर्...     0   \n",
       "...                                                 ...   ...   \n",
       "1395           @ivicong ikaw nga bully diyan eh. CROOK!     0   \n",
       "1396                          Never been so pissed off.     0   \n",
       "1397  Still think the course needs some work. It was...     0   \n",
       "1398  RT @narryyymate: Drasko and Steve are trying t...     0   \n",
       "1399  RT @mirahimage: @freebsdgirl hoping they don't...     0   \n",
       "\n",
       "                                              processed  \n",
       "0     रीब्लॉक अकाउंट को फिर से ब्लॉक करें संपादित कर...  \n",
       "1     मैं एयरफार नहीं जा सकता या मैं टेक्सास नहीं रह...  \n",
       "2     यह धागा नहीं जोड़ता है क्या मुझे कुछ याद आ रहा है  \n",
       "3             हेड बेडस्टिल श्योर ट्विटर वर्क नून समझाएं  \n",
       "4     कार व्रेक घटनाएं एनी उपयोग विस्तार से सार्वजनि...  \n",
       "...                                                 ...  \n",
       "1395                      ikaw nga bulli diyan eh crook  \n",
       "1396                                         never piss  \n",
       "1397  still think cours need work it great half cour...  \n",
       "1398             rt drasko steve tri impress collin bad  \n",
       "1399                       rt hope dont need speak buri  \n",
       "\n",
       "[271392 rows x 3 columns]"
      ]
     },
     "execution_count": 6,
     "metadata": {},
     "output_type": "execute_result"
    }
   ],
   "source": [
    "df = pd.concat([df1,df2,df3,df4,df5,df6,df7,df8,df9,df10])\n",
    "df= df.dropna()\n",
    "df = df.drop_duplicates()\n",
    "df"
   ]
  },
  {
   "cell_type": "code",
   "execution_count": 8,
   "id": "b3bf2d34",
   "metadata": {},
   "outputs": [],
   "source": [
    "X= df.drop([\"flag\", \"text\"],axis=1)\n",
    "X.processed = X.processed.astype(\"str\")"
   ]
  },
  {
   "cell_type": "code",
   "execution_count": 9,
   "id": "f02c5fb7",
   "metadata": {},
   "outputs": [],
   "source": [
    "y=df['flag']"
   ]
  },
  {
   "cell_type": "code",
   "execution_count": 10,
   "id": "6fcb3b49",
   "metadata": {},
   "outputs": [],
   "source": [
    "messages=X.copy()\n"
   ]
  },
  {
   "cell_type": "code",
   "execution_count": 11,
   "id": "cc1cbf4d",
   "metadata": {},
   "outputs": [
    {
     "data": {
      "text/plain": [
       "1    मैं एयरफार नहीं जा सकता या मैं टेक्सास नहीं रह...\n",
       "1    ইউএসএ অপার লিস্ট http আপলোড করুন উইকিমিডিয়া ও...\n",
       "1    ਮੈਂ 4k ਤੋਂ ਘੱਟ ਨਹੀਂ ਸੀ ਪਰ ਪਹਿਲਾਂ ਰਨ ਕਾਫ਼ੀ ਚੰਗਾ ਸੀ\n",
       "1                          ஃபக் டிக்ஸ்டர்நெட் டிக்ஹெட்\n",
       "1    వెల్కామ్ హలో వెల్‌కామ్ వికీపీడియాకు ధన్యవాదాలు...\n",
       "1    ಥ್ರೋ ಅನೋತ್ ಮಂಕಿ ವ್ರೆಂಚ್ ವಿಷಯ ಕೇಳಿದ ಎಕ್ಯೂಸಾ ಯೋಜ...\n",
       "1    toujours considéré comme wikipédia le comporte...\n",
       "1    it speci speci capitalis specif geni? terim ma...\n",
       "1    hal yang benar-benar menjadi perhatian dia ada...\n",
       "1    you never saw celebr say anyth like obama b ma...\n",
       "Name: processed, dtype: object"
      ]
     },
     "execution_count": 11,
     "metadata": {},
     "output_type": "execute_result"
    }
   ],
   "source": [
    "messages['processed'][1]\n"
   ]
  },
  {
   "cell_type": "code",
   "execution_count": 12,
   "id": "b14921a2",
   "metadata": {},
   "outputs": [],
   "source": [
    "messages.reset_index(inplace=True)"
   ]
  },
  {
   "cell_type": "code",
   "execution_count": 13,
   "id": "266acc50",
   "metadata": {},
   "outputs": [],
   "source": [
    "corpus = list(messages[\"processed\"])"
   ]
  },
  {
   "cell_type": "code",
   "execution_count": 14,
   "id": "103adcea",
   "metadata": {},
   "outputs": [],
   "source": [
    "voc_size=8000\n",
    "onehot_repr=[one_hot(words,voc_size)for words in corpus] \n",
    "# onehot_repr"
   ]
  },
  {
   "cell_type": "code",
   "execution_count": 15,
   "id": "a52b4fd8",
   "metadata": {},
   "outputs": [
    {
     "name": "stdout",
     "output_type": "stream",
     "text": [
      "[[ 658  231 3606 ...  495 4178   97]\n",
      " [2169 4178  329 ... 4833 4374 7069]\n",
      " [   0    0    0 ... 4655 2782   97]\n",
      " ...\n",
      " [3551 1429 6135 ... 6951 6785 1429]\n",
      " [   0    0    0 ...  637 7170 1172]\n",
      " [   0    0    0 ... 6135   22 2652]]\n"
     ]
    }
   ],
   "source": [
    "sent_length=15\n",
    "embedded_docs=pad_sequences(onehot_repr,padding='pre',maxlen=sent_length)\n",
    "print(embedded_docs)"
   ]
  },
  {
   "cell_type": "code",
   "execution_count": 16,
   "id": "e13d9d12",
   "metadata": {},
   "outputs": [],
   "source": [
    "import numpy as np\n",
    "X_final=np.array(embedded_docs)\n",
    "y_final=np.array(y)"
   ]
  },
  {
   "cell_type": "code",
   "execution_count": 18,
   "id": "6b498f23",
   "metadata": {},
   "outputs": [],
   "source": [
    "from sklearn.model_selection import train_test_split\n",
    "X_train, X_test, y_train, y_test = train_test_split(X_final, y_final, test_size=0.33, random_state=42)\n"
   ]
  },
  {
   "cell_type": "markdown",
   "id": "4c092c99",
   "metadata": {},
   "source": [
    "## BI-LSTM"
   ]
  },
  {
   "cell_type": "code",
   "execution_count": 235,
   "id": "c8b1366b",
   "metadata": {},
   "outputs": [
    {
     "name": "stdout",
     "output_type": "stream",
     "text": [
      "Model: \"sequential_40\"\n",
      "_________________________________________________________________\n",
      " Layer (type)                Output Shape              Param #   \n",
      "=================================================================\n",
      " embedding_38 (Embedding)    (None, 15, 100)           800000    \n",
      "                                                                 \n",
      " bidirectional_17 (Bidirecti  (None, 300)              301200    \n",
      " onal)                                                           \n",
      "                                                                 \n",
      " dropout_16 (Dropout)        (None, 300)               0         \n",
      "                                                                 \n",
      " dense_38 (Dense)            (None, 1)                 301       \n",
      "                                                                 \n",
      "=================================================================\n",
      "Total params: 1,101,501\n",
      "Trainable params: 1,101,501\n",
      "Non-trainable params: 0\n",
      "_________________________________________________________________\n",
      "None\n"
     ]
    }
   ],
   "source": [
    "## Creating model\n",
    "callback = EarlyStopping(monitor='val_accuracy', patience=3)\n",
    "embedding_vector_features=100\n",
    "model=Sequential()\n",
    "model.add(Embedding(voc_size,embedding_vector_features,input_length=sent_length))\n",
    "model.add(Bidirectional(LSTM(150)))\n",
    "model.add(Dropout(0.3))\n",
    "model.add(Dense(1,activation='sigmoid'))\n",
    "model.compile(loss='binary_crossentropy',optimizer='adam',metrics=['accuracy'])\n",
    "print(model.summary())"
   ]
  },
  {
   "cell_type": "code",
   "execution_count": 236,
   "id": "24b35bd2",
   "metadata": {},
   "outputs": [
    {
     "name": "stdout",
     "output_type": "stream",
     "text": [
      "Epoch 1/5\n",
      "5667/5667 [==============================] - 414s 72ms/step - loss: 0.5807 - accuracy: 0.6878 - val_loss: 0.5647 - val_accuracy: 0.7037\n",
      "Epoch 2/5\n",
      "5667/5667 [==============================] - 1354s 239ms/step - loss: 0.5321 - accuracy: 0.7290 - val_loss: 0.5641 - val_accuracy: 0.7035\n",
      "Epoch 3/5\n",
      "5667/5667 [==============================] - 1591s 281ms/step - loss: 0.4859 - accuracy: 0.7593 - val_loss: 0.5852 - val_accuracy: 0.6986\n",
      "Epoch 4/5\n",
      "5667/5667 [==============================] - 1668s 294ms/step - loss: 0.4321 - accuracy: 0.7927 - val_loss: 0.6169 - val_accuracy: 0.6919\n"
     ]
    }
   ],
   "source": [
    "data1 = model.fit(X_train,y_train,validation_data=(X_test,y_test),epochs=5,batch_size=32,callbacks=[callback])"
   ]
  },
  {
   "cell_type": "code",
   "execution_count": 248,
   "id": "e1426643",
   "metadata": {},
   "outputs": [
    {
     "data": {
      "image/png": "[encoded data removed]",
      "text/plain": [
       "<Figure size 640x480 with 1 Axes>"
      ]
     },
     "metadata": {},
     "output_type": "display_data"
    }
   ],
   "source": [
    "plt.plot(data1.history['accuracy'])\n",
    "plt.plot(data1.history['val_accuracy'])\n",
    "plt.title('model accuracy')\n",
    "plt.ylabel('accuracy')\n",
    "plt.xlabel('epoch')\n",
    "plt.legend(['train', 'val'], loc='upper left')\n",
    "plt.show()"
   ]
  },
  {
   "cell_type": "markdown",
   "id": "58cba0f1",
   "metadata": {},
   "source": [
    "## CNN"
   ]
  },
  {
   "cell_type": "code",
   "execution_count": 237,
   "id": "034f63d9",
   "metadata": {},
   "outputs": [
    {
     "name": "stdout",
     "output_type": "stream",
     "text": [
      "Model: \"sequential_41\"\n",
      "_________________________________________________________________\n",
      " Layer (type)                Output Shape              Param #   \n",
      "=================================================================\n",
      " embedding_39 (Embedding)    (None, 15, 100)           800000    \n",
      "                                                                 \n",
      " conv1d_30 (Conv1D)          (None, 11, 128)           64128     \n",
      "                                                                 \n",
      " global_max_pooling1d_6 (Glo  (None, 128)              0         \n",
      " balMaxPooling1D)                                                \n",
      "                                                                 \n",
      " dense_39 (Dense)            (None, 10)                1290      \n",
      "                                                                 \n",
      " dense_40 (Dense)            (None, 1)                 11        \n",
      "                                                                 \n",
      "=================================================================\n",
      "Total params: 865,429\n",
      "Trainable params: 865,429\n",
      "Non-trainable params: 0\n",
      "_________________________________________________________________\n"
     ]
    }
   ],
   "source": [
    "embedding_dim = 100\n",
    "\n",
    "model = Sequential()\n",
    "model.add(Embedding(voc_size, embedding_dim, input_length=sent_length))\n",
    "model.add(Conv1D(128, 5, activation='relu'))\n",
    "model.add(GlobalMaxPooling1D())\n",
    "model.add(Dense(10, activation='relu'))\n",
    "model.add(Dense(1, activation='sigmoid'))\n",
    "model.compile(optimizer='adam',\n",
    "              loss='binary_crossentropy',\n",
    "              metrics=['accuracy'])\n",
    "model.summary()"
   ]
  },
  {
   "cell_type": "code",
   "execution_count": 238,
   "id": "3e08ceb2",
   "metadata": {},
   "outputs": [
    {
     "name": "stdout",
     "output_type": "stream",
     "text": [
      "Epoch 1/5\n",
      "5667/5667 [==============================] - 140s 24ms/step - loss: 0.5847 - accuracy: 0.6851 - val_loss: 0.5664 - val_accuracy: 0.7021\n",
      "Epoch 2/5\n",
      "5667/5667 [==============================] - 126s 22ms/step - loss: 0.5122 - accuracy: 0.7453 - val_loss: 0.5770 - val_accuracy: 0.6961\n",
      "Epoch 3/5\n",
      "5667/5667 [==============================] - 127s 22ms/step - loss: 0.3837 - accuracy: 0.8261 - val_loss: 0.6737 - val_accuracy: 0.6735\n",
      "Epoch 4/5\n",
      "5667/5667 [==============================] - 125s 22ms/step - loss: 0.2374 - accuracy: 0.9005 - val_loss: 0.9136 - val_accuracy: 0.6670\n"
     ]
    }
   ],
   "source": [
    "data2 = model.fit(X_train,y_train,validation_data=(X_test,y_test),epochs=5,batch_size=32,callbacks=[callback])"
   ]
  },
  {
   "cell_type": "code",
   "execution_count": 249,
   "id": "202ccfea",
   "metadata": {},
   "outputs": [
    {
     "data": {
      "image/png": "[encoded data removed]",
      "text/plain": [
       "<Figure size 640x480 with 1 Axes>"
      ]
     },
     "metadata": {},
     "output_type": "display_data"
    }
   ],
   "source": [
    "plt.plot(data2.history['accuracy'])\n",
    "plt.plot(data2.history['val_accuracy'])\n",
    "plt.title('model accuracy')\n",
    "plt.ylabel('accuracy')\n",
    "plt.xlabel('epoch')\n",
    "plt.legend(['train', 'val'], loc='upper left')\n",
    "plt.show()"
   ]
  },
  {
   "cell_type": "markdown",
   "id": "b9d2127a",
   "metadata": {},
   "source": [
    "## GRU"
   ]
  },
  {
   "cell_type": "code",
   "execution_count": 239,
   "id": "c7739e5c",
   "metadata": {},
   "outputs": [
    {
     "name": "stdout",
     "output_type": "stream",
     "text": [
      "Model: \"sequential_42\"\n",
      "_________________________________________________________________\n",
      " Layer (type)                Output Shape              Param #   \n",
      "=================================================================\n",
      " embedding_40 (Embedding)    (None, 15, 100)           800000    \n",
      "                                                                 \n",
      " gru_4 (GRU)                 (None, 150)               113400    \n",
      "                                                                 \n",
      " dropout_17 (Dropout)        (None, 150)               0         \n",
      "                                                                 \n",
      " dense_41 (Dense)            (None, 1)                 151       \n",
      "                                                                 \n",
      "=================================================================\n",
      "Total params: 913,551\n",
      "Trainable params: 913,551\n",
      "Non-trainable params: 0\n",
      "_________________________________________________________________\n",
      "None\n"
     ]
    }
   ],
   "source": [
    "embedding_vector_features=100\n",
    "model=Sequential()\n",
    "model.add(Embedding(voc_size,embedding_vector_features,input_length=sent_length))\n",
    "model.add(GRU(150))\n",
    "model.add(Dropout(0.3))\n",
    "model.add(Dense(1,activation='sigmoid'))\n",
    "model.compile(loss='binary_crossentropy',optimizer='adam',metrics=['accuracy'])\n",
    "print(model.summary())"
   ]
  },
  {
   "cell_type": "code",
   "execution_count": 240,
   "id": "bdd24a41",
   "metadata": {},
   "outputs": [
    {
     "name": "stdout",
     "output_type": "stream",
     "text": [
      "Epoch 1/5\n",
      "5667/5667 [==============================] - 793s 139ms/step - loss: 0.5798 - accuracy: 0.6890 - val_loss: 0.5648 - val_accuracy: 0.7033\n",
      "Epoch 2/5\n",
      "5667/5667 [==============================] - 909s 160ms/step - loss: 0.5276 - accuracy: 0.7329 - val_loss: 0.5609 - val_accuracy: 0.7061\n",
      "Epoch 3/5\n",
      "5667/5667 [==============================] - 384s 68ms/step - loss: 0.4856 - accuracy: 0.7607 - val_loss: 0.5785 - val_accuracy: 0.6958\n",
      "Epoch 4/5\n",
      "5667/5667 [==============================] - 379s 67ms/step - loss: 0.4392 - accuracy: 0.7896 - val_loss: 0.6118 - val_accuracy: 0.6876\n",
      "Epoch 5/5\n",
      "5667/5667 [==============================] - 380s 67ms/step - loss: 0.3841 - accuracy: 0.8235 - val_loss: 0.6837 - val_accuracy: 0.6794\n"
     ]
    }
   ],
   "source": [
    "data3 = model.fit(X_train,y_train,validation_data=(X_test,y_test),epochs=5,batch_size=32)"
   ]
  },
  {
   "cell_type": "code",
   "execution_count": 253,
   "id": "94826f99",
   "metadata": {},
   "outputs": [
    {
     "data": {
      "image/png": "[encoded data removed]",
      "text/plain": [
       "<Figure size 640x480 with 1 Axes>"
      ]
     },
     "metadata": {},
     "output_type": "display_data"
    }
   ],
   "source": [
    "plt.plot(data3.history['accuracy'])\n",
    "plt.plot(data3.history['val_accuracy'])\n",
    "plt.title('model accuracy')\n",
    "plt.ylabel('accuracy')\n",
    "plt.xlabel('epoch')\n",
    "plt.legend(['train', 'val'], loc='upper left')\n",
    "plt.show()"
   ]
  },
  {
   "cell_type": "markdown",
   "id": "d156bd81",
   "metadata": {},
   "source": [
    "## CNN+GRU"
   ]
  },
  {
   "cell_type": "code",
   "execution_count": 51,
   "id": "4119d3e2",
   "metadata": {},
   "outputs": [
    {
     "name": "stdout",
     "output_type": "stream",
     "text": [
      "Model: \"sequential_16\"\n",
      "_________________________________________________________________\n",
      " Layer (type)                Output Shape              Param #   \n",
      "=================================================================\n",
      " embedding_16 (Embedding)    (None, 15, 100)           800000    \n",
      "                                                                 \n",
      " conv1d_16 (Conv1D)          (None, 12, 4)             1604      \n",
      "                                                                 \n",
      " max_pooling1d (MaxPooling1D  (None, 6, 4)             0         \n",
      " )                                                               \n",
      "                                                                 \n",
      " gru (GRU)                   (None, 128)               51456     \n",
      "                                                                 \n",
      " dense_32 (Dense)            (None, 1)                 129       \n",
      "                                                                 \n",
      "=================================================================\n",
      "Total params: 853,189\n",
      "Trainable params: 853,189\n",
      "Non-trainable params: 0\n",
      "_________________________________________________________________\n",
      "None\n"
     ]
    }
   ],
   "source": [
    "model = Sequential()\n",
    "#Non-trainable embeddidng layer\n",
    "model.add(Embedding(voc_size, output_dim=100, input_length=sent_length))\n",
    "model.add(Conv1D(activation='relu', filters=4, kernel_size=4))\n",
    "model.add(MaxPool1D())\n",
    "model.add(GRU(128))\n",
    "model.add(Dense(1, activation='sigmoid'))\n",
    "model.compile(optimizer='adam', loss='binary_crossentropy', metrics=['acc'])\n",
    "print(model.summary())"
   ]
  },
  {
   "cell_type": "code",
   "execution_count": 244,
   "id": "b087cb08",
   "metadata": {},
   "outputs": [
    {
     "name": "stdout",
     "output_type": "stream",
     "text": [
      "Epoch 1/5\n",
      "5667/5667 [==============================] - 135s 23ms/step - loss: 0.5930 - acc: 0.6777 - val_loss: 0.5736 - val_acc: 0.6956\n",
      "Epoch 2/5\n",
      "5667/5667 [==============================] - 134s 24ms/step - loss: 0.5291 - acc: 0.7321 - val_loss: 0.5826 - val_acc: 0.6893\n",
      "Epoch 3/5\n",
      "5667/5667 [==============================] - 135s 24ms/step - loss: 0.4630 - acc: 0.7809 - val_loss: 0.6049 - val_acc: 0.6858\n",
      "Epoch 4/5\n",
      "5667/5667 [==============================] - 136s 24ms/step - loss: 0.4018 - acc: 0.8174 - val_loss: 0.6774 - val_acc: 0.6706\n",
      "Epoch 5/5\n",
      "5667/5667 [==============================] - 136s 24ms/step - loss: 0.3478 - acc: 0.8478 - val_loss: 0.7347 - val_acc: 0.6579\n"
     ]
    }
   ],
   "source": [
    "data4 = model.fit(X_train,y_train,validation_data=(X_test,y_test),epochs=5,batch_size=32)"
   ]
  },
  {
   "cell_type": "code",
   "execution_count": 259,
   "id": "e18ca8e4",
   "metadata": {},
   "outputs": [
    {
     "data": {
      "image/png": "[encoded data removed]",
      "text/plain": [
       "<Figure size 640x480 with 1 Axes>"
      ]
     },
     "metadata": {},
     "output_type": "display_data"
    }
   ],
   "source": [
    "plt.plot(data4.history['acc'])\n",
    "plt.plot(data4.history['val_acc'])\n",
    "plt.title('model accuracy')\n",
    "plt.ylabel('accuracy')\n",
    "plt.xlabel('epoch')\n",
    "plt.legend(['train', 'val'], loc='upper left')\n",
    "plt.show()"
   ]
  },
  {
   "cell_type": "markdown",
   "id": "e5b15aaf",
   "metadata": {},
   "source": [
    "## CNN+Bi-LSTM"
   ]
  },
  {
   "cell_type": "code",
   "execution_count": 245,
   "id": "89d0e263",
   "metadata": {},
   "outputs": [
    {
     "name": "stdout",
     "output_type": "stream",
     "text": [
      "Model: \"sequential_46\"\n",
      "_________________________________________________________________\n",
      " Layer (type)                Output Shape              Param #   \n",
      "=================================================================\n",
      " embedding_44 (Embedding)    (None, 15, 100)           800000    \n",
      "                                                                 \n",
      " conv1d_34 (Conv1D)          (None, 11, 128)           64128     \n",
      "                                                                 \n",
      " bidirectional_18 (Bidirecti  (None, 300)              334800    \n",
      " onal)                                                           \n",
      "                                                                 \n",
      " dense_43 (Dense)            (None, 10)                3010      \n",
      "                                                                 \n",
      " dense_44 (Dense)            (None, 1)                 11        \n",
      "                                                                 \n",
      "=================================================================\n",
      "Total params: 1,201,949\n",
      "Trainable params: 1,201,949\n",
      "Non-trainable params: 0\n",
      "_________________________________________________________________\n"
     ]
    }
   ],
   "source": [
    "embedding_dim = 100\n",
    "\n",
    "model = Sequential()\n",
    "model.add(Embedding(voc_size, embedding_dim, input_length=sent_length))\n",
    "model.add(Conv1D(128, 5, activation='relu'))\n",
    "model.add(Bidirectional(LSTM(150)))\n",
    "model.add(Dense(10, activation='relu'))\n",
    "model.add(Dense(1, activation='sigmoid'))\n",
    "model.compile(optimizer='adam',\n",
    "              loss='binary_crossentropy',\n",
    "              metrics=['accuracy'])\n",
    "model.summary()"
   ]
  },
  {
   "cell_type": "code",
   "execution_count": 246,
   "id": "4ad867d0",
   "metadata": {},
   "outputs": [
    {
     "name": "stdout",
     "output_type": "stream",
     "text": [
      "Epoch 1/5\n",
      "5667/5667 [==============================] - 693s 122ms/step - loss: 0.5827 - accuracy: 0.6857 - val_loss: 0.5640 - val_accuracy: 0.7029\n",
      "Epoch 2/5\n",
      "5667/5667 [==============================] - 587s 104ms/step - loss: 0.5182 - accuracy: 0.7390 - val_loss: 0.5735 - val_accuracy: 0.6982\n",
      "Epoch 3/5\n",
      "5667/5667 [==============================] - 347s 61ms/step - loss: 0.4271 - accuracy: 0.7972 - val_loss: 0.6470 - val_accuracy: 0.6854\n",
      "Epoch 4/5\n",
      "5667/5667 [==============================] - 351s 62ms/step - loss: 0.3216 - accuracy: 0.8573 - val_loss: 0.7626 - val_accuracy: 0.6732\n",
      "Epoch 5/5\n",
      "5667/5667 [==============================] - 355s 63ms/step - loss: 0.2218 - accuracy: 0.9069 - val_loss: 0.9819 - val_accuracy: 0.6673\n"
     ]
    }
   ],
   "source": [
    "data5 = model.fit(X_train,y_train,validation_data=(X_test,y_test),epochs=5,batch_size=32)"
   ]
  },
  {
   "cell_type": "code",
   "execution_count": 256,
   "id": "3786a2aa",
   "metadata": {},
   "outputs": [
    {
     "data": {
      "image/png": "[encoded data removed]",
      "text/plain": [
       "<Figure size 640x480 with 1 Axes>"
      ]
     },
     "metadata": {},
     "output_type": "display_data"
    }
   ],
   "source": [
    "plt.plot(data5.history['accuracy'])\n",
    "plt.plot(data5.history['val_accuracy'])\n",
    "plt.title('model accuracy')\n",
    "plt.ylabel('accuracy')\n",
    "plt.xlabel('epoch')\n",
    "plt.legend(['train', 'val'], loc='upper left')\n",
    "plt.show()"
   ]
  },
  {
   "cell_type": "code",
   "execution_count": 64,
   "id": "26bbfed1",
   "metadata": {},
   "outputs": [
    {
     "data": {
      "text/html": [
       "<div>\n",
       "<style scoped>\n",
       "    .dataframe tbody tr th:only-of-type {\n",
       "        vertical-align: middle;\n",
       "    }\n",
       "\n",
       "    .dataframe tbody tr th {\n",
       "        vertical-align: top;\n",
       "    }\n",
       "\n",
       "    .dataframe thead th {\n",
       "        text-align: right;\n",
       "    }\n",
       "</style>\n",
       "<table border=\"1\" class=\"dataframe\">\n",
       "  <thead>\n",
       "    <tr style=\"text-align: right;\">\n",
       "      <th></th>\n",
       "      <th>Model name</th>\n",
       "      <th>Accuracy</th>\n",
       "      <th>Validation Accuracy</th>\n",
       "      <th>Avg Training Time</th>\n",
       "    </tr>\n",
       "  </thead>\n",
       "  <tbody>\n",
       "    <tr>\n",
       "      <th>0</th>\n",
       "      <td>Bi-LSTM</td>\n",
       "      <td>79.27</td>\n",
       "      <td>69.19</td>\n",
       "      <td>1256.75</td>\n",
       "    </tr>\n",
       "    <tr>\n",
       "      <th>1</th>\n",
       "      <td>GRU</td>\n",
       "      <td>82.35</td>\n",
       "      <td>67.94</td>\n",
       "      <td>569.00</td>\n",
       "    </tr>\n",
       "    <tr>\n",
       "      <th>2</th>\n",
       "      <td>CNN+GRU</td>\n",
       "      <td>84.48</td>\n",
       "      <td>65.79</td>\n",
       "      <td>135.20</td>\n",
       "    </tr>\n",
       "    <tr>\n",
       "      <th>3</th>\n",
       "      <td>CNN+Bi-LSTM</td>\n",
       "      <td>90.69</td>\n",
       "      <td>66.73</td>\n",
       "      <td>466.60</td>\n",
       "    </tr>\n",
       "  </tbody>\n",
       "</table>\n",
       "</div>"
      ],
      "text/plain": [
       "    Model name  Accuracy  Validation Accuracy  Avg Training Time\n",
       "0      Bi-LSTM     79.27                69.19            1256.75\n",
       "1          GRU     82.35                67.94             569.00\n",
       "2      CNN+GRU     84.48                65.79             135.20\n",
       "3  CNN+Bi-LSTM     90.69                66.73             466.60"
      ]
     },
     "execution_count": 64,
     "metadata": {},
     "output_type": "execute_result"
    }
   ],
   "source": [
    "modelName = [\"Bi-LSTM\",\"GRU\",\"CNN+GRU\",\"CNN+Bi-LSTM\"]\n",
    "acc = [79.27, 82.35, 84.48, 90.69]\n",
    "valAcc =  [69.19, 67.94, 65.79, 66.73]\n",
    "exe = [1256.75, 569,135.2, 466.6]\n",
    "dfData = pd.DataFrame(data = list(zip(modelName,acc, valAcc,exe)), columns = [\"Model name\",\"Accuracy\",\"Validation Accuracy\", \"Avg Training Time\"])\n",
    "\n",
    "dfData.head()"
   ]
  },
  {
   "cell_type": "markdown",
   "id": "00d6e9a5",
   "metadata": {},
   "source": [
    "## Variations"
   ]
  },
  {
   "cell_type": "markdown",
   "id": "bdf4067b",
   "metadata": {},
   "source": [
    "### Adam & Sigmoid"
   ]
  },
  {
   "cell_type": "code",
   "execution_count": 35,
   "id": "bc1a5c29",
   "metadata": {},
   "outputs": [
    {
     "name": "stdout",
     "output_type": "stream",
     "text": [
      "Model: \"sequential_8\"\n",
      "_________________________________________________________________\n",
      " Layer (type)                Output Shape              Param #   \n",
      "=================================================================\n",
      " embedding_8 (Embedding)     (None, 15, 100)           800000    \n",
      "                                                                 \n",
      " conv1d_8 (Conv1D)           (None, 11, 128)           64128     \n",
      "                                                                 \n",
      " bidirectional_8 (Bidirectio  (None, 300)              334800    \n",
      " nal)                                                            \n",
      "                                                                 \n",
      " dense_16 (Dense)            (None, 10)                3010      \n",
      "                                                                 \n",
      " dense_17 (Dense)            (None, 1)                 11        \n",
      "                                                                 \n",
      "=================================================================\n",
      "Total params: 1,201,949\n",
      "Trainable params: 1,201,949\n",
      "Non-trainable params: 0\n",
      "_________________________________________________________________\n"
     ]
    }
   ],
   "source": [
    "embedding_dim = 100\n",
    "\n",
    "model = Sequential()\n",
    "model.add(Embedding(voc_size, embedding_dim, input_length=sent_length))\n",
    "model.add(Conv1D(128, 5, activation='relu'))\n",
    "model.add(Bidirectional(LSTM(150)))\n",
    "model.add(Dense(10, activation='sigmoid'))\n",
    "model.add(Dense(1, activation='sigmoid'))\n",
    "model.compile(optimizer='adam',\n",
    "              loss='binary_crossentropy',\n",
    "              metrics=['accuracy'])\n",
    "model.summary()"
   ]
  },
  {
   "cell_type": "code",
   "execution_count": 36,
   "id": "1afd0fc6",
   "metadata": {},
   "outputs": [
    {
     "name": "stdout",
     "output_type": "stream",
     "text": [
      "Epoch 1/5\n",
      "5667/5667 [==============================] - 220s 38ms/step - loss: 0.5867 - accuracy: 0.6832 - val_loss: 0.5657 - val_accuracy: 0.7018\n",
      "Epoch 2/5\n",
      "5667/5667 [==============================] - 212s 37ms/step - loss: 0.5245 - accuracy: 0.7383 - val_loss: 0.5713 - val_accuracy: 0.6999\n",
      "Epoch 3/5\n",
      "5667/5667 [==============================] - 251s 44ms/step - loss: 0.4347 - accuracy: 0.8007 - val_loss: 0.6216 - val_accuracy: 0.6850\n",
      "Epoch 4/5\n",
      "5667/5667 [==============================] - 248s 44ms/step - loss: 0.3286 - accuracy: 0.8643 - val_loss: 0.7235 - val_accuracy: 0.6713\n",
      "Epoch 5/5\n",
      "5667/5667 [==============================] - 232s 41ms/step - loss: 0.2349 - accuracy: 0.9108 - val_loss: 0.8733 - val_accuracy: 0.6555\n"
     ]
    }
   ],
   "source": [
    "data1 = model.fit(X_train,y_train,validation_data=(X_test,y_test),epochs=5,batch_size=32)"
   ]
  },
  {
   "cell_type": "markdown",
   "id": "3f2dc673",
   "metadata": {},
   "source": [
    "### Adam & Relu"
   ]
  },
  {
   "cell_type": "code",
   "execution_count": 37,
   "id": "a05432b3",
   "metadata": {},
   "outputs": [
    {
     "name": "stdout",
     "output_type": "stream",
     "text": [
      "Model: \"sequential_9\"\n",
      "_________________________________________________________________\n",
      " Layer (type)                Output Shape              Param #   \n",
      "=================================================================\n",
      " embedding_9 (Embedding)     (None, 15, 100)           800000    \n",
      "                                                                 \n",
      " conv1d_9 (Conv1D)           (None, 11, 128)           64128     \n",
      "                                                                 \n",
      " bidirectional_9 (Bidirectio  (None, 300)              334800    \n",
      " nal)                                                            \n",
      "                                                                 \n",
      " dense_18 (Dense)            (None, 10)                3010      \n",
      "                                                                 \n",
      " dense_19 (Dense)            (None, 1)                 11        \n",
      "                                                                 \n",
      "=================================================================\n",
      "Total params: 1,201,949\n",
      "Trainable params: 1,201,949\n",
      "Non-trainable params: 0\n",
      "_________________________________________________________________\n"
     ]
    }
   ],
   "source": [
    "embedding_dim = 100\n",
    "\n",
    "model = Sequential()\n",
    "model.add(Embedding(voc_size, embedding_dim, input_length=sent_length))\n",
    "model.add(Conv1D(128, 5, activation='relu'))\n",
    "model.add(Bidirectional(LSTM(150)))\n",
    "model.add(Dense(10, activation='relu'))\n",
    "model.add(Dense(1, activation='relu'))\n",
    "model.compile(optimizer='adam',\n",
    "              loss='binary_crossentropy',\n",
    "              metrics=['accuracy'])\n",
    "model.summary()"
   ]
  },
  {
   "cell_type": "code",
   "execution_count": 38,
   "id": "73383251",
   "metadata": {},
   "outputs": [
    {
     "name": "stdout",
     "output_type": "stream",
     "text": [
      "Epoch 1/5\n",
      "5667/5667 [==============================] - 213s 37ms/step - loss: 0.5905 - accuracy: 0.6820 - val_loss: 0.5764 - val_accuracy: 0.6962\n",
      "Epoch 2/5\n",
      "5667/5667 [==============================] - 205s 36ms/step - loss: 0.5284 - accuracy: 0.7308 - val_loss: 0.5758 - val_accuracy: 0.7004\n",
      "Epoch 3/5\n",
      "5667/5667 [==============================] - 209s 37ms/step - loss: 0.4550 - accuracy: 0.7856 - val_loss: 0.6633 - val_accuracy: 0.6879\n",
      "Epoch 4/5\n",
      "5667/5667 [==============================] - 211s 37ms/step - loss: 0.3904 - accuracy: 0.8315 - val_loss: 0.7150 - val_accuracy: 0.6756\n",
      "Epoch 5/5\n",
      "5667/5667 [==============================] - 205s 36ms/step - loss: 0.3571 - accuracy: 0.8579 - val_loss: 0.9256 - val_accuracy: 0.6666\n"
     ]
    }
   ],
   "source": [
    "data2 = model.fit(X_train,y_train,validation_data=(X_test,y_test),epochs=5,batch_size=32)"
   ]
  },
  {
   "cell_type": "markdown",
   "id": "eaac2432",
   "metadata": {},
   "source": [
    "### Adam & SoftMax"
   ]
  },
  {
   "cell_type": "code",
   "execution_count": 39,
   "id": "d3692bbf",
   "metadata": {
    "scrolled": true
   },
   "outputs": [
    {
     "name": "stdout",
     "output_type": "stream",
     "text": [
      "Model: \"sequential_10\"\n",
      "_________________________________________________________________\n",
      " Layer (type)                Output Shape              Param #   \n",
      "=================================================================\n",
      " embedding_10 (Embedding)    (None, 15, 100)           800000    \n",
      "                                                                 \n",
      " conv1d_10 (Conv1D)          (None, 11, 128)           64128     \n",
      "                                                                 \n",
      " bidirectional_10 (Bidirecti  (None, 300)              334800    \n",
      " onal)                                                           \n",
      "                                                                 \n",
      " dense_20 (Dense)            (None, 10)                3010      \n",
      "                                                                 \n",
      " dense_21 (Dense)            (None, 1)                 11        \n",
      "                                                                 \n",
      "=================================================================\n",
      "Total params: 1,201,949\n",
      "Trainable params: 1,201,949\n",
      "Non-trainable params: 0\n",
      "_________________________________________________________________\n"
     ]
    }
   ],
   "source": [
    "embedding_dim = 100\n",
    "\n",
    "model = Sequential()\n",
    "model.add(Embedding(voc_size, embedding_dim, input_length=sent_length))\n",
    "model.add(Conv1D(128, 5, activation='relu'))\n",
    "model.add(Bidirectional(LSTM(150)))\n",
    "model.add(Dense(10, activation='relu'))\n",
    "model.add(Dense(1, activation='softmax'))\n",
    "model.compile(optimizer='adam',\n",
    "              loss='binary_crossentropy',\n",
    "              metrics=['accuracy'])\n",
    "model.summary()"
   ]
  },
  {
   "cell_type": "code",
   "execution_count": 40,
   "id": "e7000cbf",
   "metadata": {},
   "outputs": [
    {
     "name": "stdout",
     "output_type": "stream",
     "text": [
      "Epoch 1/5\n",
      "5667/5667 [==============================] - 266s 46ms/step - loss: 0.5838 - accuracy: 0.4309 - val_loss: 0.5642 - val_accuracy: 0.4299\n",
      "Epoch 2/5\n",
      "5667/5667 [==============================] - 296s 52ms/step - loss: 0.5149 - accuracy: 0.4309 - val_loss: 0.5718 - val_accuracy: 0.4299\n",
      "Epoch 3/5\n",
      "5667/5667 [==============================] - 292s 52ms/step - loss: 0.4220 - accuracy: 0.4309 - val_loss: 0.6368 - val_accuracy: 0.4299\n",
      "Epoch 4/5\n",
      "5667/5667 [==============================] - 399s 70ms/step - loss: 0.3174 - accuracy: 0.4309 - val_loss: 0.7568 - val_accuracy: 0.4299\n",
      "Epoch 5/5\n",
      "5667/5667 [==============================] - 404s 71ms/step - loss: 0.2150 - accuracy: 0.4309 - val_loss: 1.0049 - val_accuracy: 0.4299\n"
     ]
    }
   ],
   "source": [
    "data3 = model.fit(X_train,y_train,validation_data=(X_test,y_test),epochs=5,batch_size=32)"
   ]
  },
  {
   "cell_type": "markdown",
   "id": "2dfeab23",
   "metadata": {},
   "source": [
    "### Adam & TanH"
   ]
  },
  {
   "cell_type": "code",
   "execution_count": 41,
   "id": "4adc7000",
   "metadata": {},
   "outputs": [
    {
     "name": "stdout",
     "output_type": "stream",
     "text": [
      "Model: \"sequential_11\"\n",
      "_________________________________________________________________\n",
      " Layer (type)                Output Shape              Param #   \n",
      "=================================================================\n",
      " embedding_11 (Embedding)    (None, 15, 100)           800000    \n",
      "                                                                 \n",
      " conv1d_11 (Conv1D)          (None, 11, 128)           64128     \n",
      "                                                                 \n",
      " bidirectional_11 (Bidirecti  (None, 300)              334800    \n",
      " onal)                                                           \n",
      "                                                                 \n",
      " dense_22 (Dense)            (None, 10)                3010      \n",
      "                                                                 \n",
      " dense_23 (Dense)            (None, 1)                 11        \n",
      "                                                                 \n",
      "=================================================================\n",
      "Total params: 1,201,949\n",
      "Trainable params: 1,201,949\n",
      "Non-trainable params: 0\n",
      "_________________________________________________________________\n"
     ]
    }
   ],
   "source": [
    "embedding_dim = 100\n",
    "\n",
    "model = Sequential()\n",
    "model.add(Embedding(voc_size, embedding_dim, input_length=sent_length))\n",
    "model.add(Conv1D(128, 5, activation='relu'))\n",
    "model.add(Bidirectional(LSTM(150)))\n",
    "model.add(Dense(10, activation='relu'))\n",
    "model.add(Dense(1, activation='tanh'))\n",
    "model.compile(optimizer='adam',\n",
    "              loss='binary_crossentropy',\n",
    "              metrics=['accuracy'])\n",
    "model.summary()"
   ]
  },
  {
   "cell_type": "code",
   "execution_count": 42,
   "id": "6450a08e",
   "metadata": {},
   "outputs": [
    {
     "name": "stdout",
     "output_type": "stream",
     "text": [
      "Epoch 1/5\n",
      "5667/5667 [==============================] - 335s 59ms/step - loss: 0.5850 - accuracy: 0.6851 - val_loss: 0.5642 - val_accuracy: 0.7042\n",
      "Epoch 2/5\n",
      "5667/5667 [==============================] - 295s 52ms/step - loss: 0.5186 - accuracy: 0.7390 - val_loss: 0.5729 - val_accuracy: 0.6992\n",
      "Epoch 3/5\n",
      "5667/5667 [==============================] - 257s 45ms/step - loss: 0.4195 - accuracy: 0.8042 - val_loss: 0.6447 - val_accuracy: 0.6850\n",
      "Epoch 4/5\n",
      "5667/5667 [==============================] - 253s 45ms/step - loss: 0.3071 - accuracy: 0.8712 - val_loss: 0.7649 - val_accuracy: 0.6642\n",
      "Epoch 5/5\n",
      "5667/5667 [==============================] - 254s 45ms/step - loss: 0.2077 - accuracy: 0.9216 - val_loss: 0.9705 - val_accuracy: 0.6536\n"
     ]
    }
   ],
   "source": [
    "data4 = model.fit(X_train,y_train,validation_data=(X_test,y_test),epochs=5,batch_size=32)"
   ]
  },
  {
   "cell_type": "markdown",
   "id": "c413ff58",
   "metadata": {},
   "source": [
    "### SGD & Sigmoid"
   ]
  },
  {
   "cell_type": "code",
   "execution_count": 43,
   "id": "72130c16",
   "metadata": {},
   "outputs": [
    {
     "name": "stdout",
     "output_type": "stream",
     "text": [
      "Model: \"sequential_12\"\n",
      "_________________________________________________________________\n",
      " Layer (type)                Output Shape              Param #   \n",
      "=================================================================\n",
      " embedding_12 (Embedding)    (None, 15, 100)           800000    \n",
      "                                                                 \n",
      " conv1d_12 (Conv1D)          (None, 11, 128)           64128     \n",
      "                                                                 \n",
      " bidirectional_12 (Bidirecti  (None, 300)              334800    \n",
      " onal)                                                           \n",
      "                                                                 \n",
      " dense_24 (Dense)            (None, 10)                3010      \n",
      "                                                                 \n",
      " dense_25 (Dense)            (None, 1)                 11        \n",
      "                                                                 \n",
      "=================================================================\n",
      "Total params: 1,201,949\n",
      "Trainable params: 1,201,949\n",
      "Non-trainable params: 0\n",
      "_________________________________________________________________\n"
     ]
    }
   ],
   "source": [
    "embedding_dim = 100\n",
    "\n",
    "model = Sequential()\n",
    "model.add(Embedding(voc_size, embedding_dim, input_length=sent_length))\n",
    "model.add(Conv1D(128, 5, activation='relu'))\n",
    "model.add(Bidirectional(LSTM(150)))\n",
    "model.add(Dense(10, activation='relu'))\n",
    "model.add(Dense(1, activation='sigmoid'))\n",
    "model.compile(optimizer='SGD',\n",
    "              loss='binary_crossentropy',\n",
    "              metrics=['accuracy'])\n",
    "model.summary()"
   ]
  },
  {
   "cell_type": "code",
   "execution_count": 44,
   "id": "b40247c4",
   "metadata": {},
   "outputs": [
    {
     "name": "stdout",
     "output_type": "stream",
     "text": [
      "Epoch 1/5\n",
      "5667/5667 [==============================] - 186s 32ms/step - loss: 0.6644 - accuracy: 0.5963 - val_loss: 0.6518 - val_accuracy: 0.6128\n",
      "Epoch 2/5\n",
      "5667/5667 [==============================] - 178s 31ms/step - loss: 0.6519 - accuracy: 0.6130 - val_loss: 0.6492 - val_accuracy: 0.6140\n",
      "Epoch 3/5\n",
      "5667/5667 [==============================] - 180s 32ms/step - loss: 0.6503 - accuracy: 0.6142 - val_loss: 0.6480 - val_accuracy: 0.6166\n",
      "Epoch 4/5\n",
      "5667/5667 [==============================] - 182s 32ms/step - loss: 0.6495 - accuracy: 0.6149 - val_loss: 0.6467 - val_accuracy: 0.6179\n",
      "Epoch 5/5\n",
      "5667/5667 [==============================] - 181s 32ms/step - loss: 0.6483 - accuracy: 0.6146 - val_loss: 0.6456 - val_accuracy: 0.6172\n"
     ]
    }
   ],
   "source": [
    "data5 = model.fit(X_train,y_train,validation_data=(X_test,y_test),epochs=5,batch_size=32)"
   ]
  },
  {
   "cell_type": "markdown",
   "id": "03687b25",
   "metadata": {},
   "source": [
    "### SGD & Relu"
   ]
  },
  {
   "cell_type": "code",
   "execution_count": 45,
   "id": "c018e2e8",
   "metadata": {},
   "outputs": [
    {
     "name": "stdout",
     "output_type": "stream",
     "text": [
      "Model: \"sequential_13\"\n",
      "_________________________________________________________________\n",
      " Layer (type)                Output Shape              Param #   \n",
      "=================================================================\n",
      " embedding_13 (Embedding)    (None, 15, 100)           800000    \n",
      "                                                                 \n",
      " conv1d_13 (Conv1D)          (None, 11, 128)           64128     \n",
      "                                                                 \n",
      " bidirectional_13 (Bidirecti  (None, 300)              334800    \n",
      " onal)                                                           \n",
      "                                                                 \n",
      " dense_26 (Dense)            (None, 10)                3010      \n",
      "                                                                 \n",
      " dense_27 (Dense)            (None, 1)                 11        \n",
      "                                                                 \n",
      "=================================================================\n",
      "Total params: 1,201,949\n",
      "Trainable params: 1,201,949\n",
      "Non-trainable params: 0\n",
      "_________________________________________________________________\n"
     ]
    }
   ],
   "source": [
    "embedding_dim = 100\n",
    "\n",
    "model = Sequential()\n",
    "model.add(Embedding(voc_size, embedding_dim, input_length=sent_length))\n",
    "model.add(Conv1D(128, 5, activation='relu'))\n",
    "model.add(Bidirectional(LSTM(150)))\n",
    "model.add(Dense(10, activation='relu'))\n",
    "model.add(Dense(1, activation='relu'))\n",
    "model.compile(optimizer='SGD',\n",
    "              loss='binary_crossentropy',\n",
    "              metrics=['accuracy'])\n",
    "model.summary()"
   ]
  },
  {
   "cell_type": "code",
   "execution_count": 46,
   "id": "5735f2b4",
   "metadata": {},
   "outputs": [
    {
     "name": "stdout",
     "output_type": "stream",
     "text": [
      "Epoch 1/5\n",
      "5667/5667 [==============================] - 178s 31ms/step - loss: 8.6782 - accuracy: 0.4309 - val_loss: 8.6934 - val_accuracy: 0.4299\n",
      "Epoch 2/5\n",
      "5667/5667 [==============================] - 177s 31ms/step - loss: 8.6791 - accuracy: 0.4309 - val_loss: 8.6934 - val_accuracy: 0.4299\n",
      "Epoch 3/5\n",
      "5667/5667 [==============================] - 179s 32ms/step - loss: 8.6791 - accuracy: 0.4309 - val_loss: 8.6934 - val_accuracy: 0.4299\n",
      "Epoch 4/5\n",
      "5667/5667 [==============================] - 213s 38ms/step - loss: 8.6791 - accuracy: 0.4309 - val_loss: 8.6934 - val_accuracy: 0.4299\n",
      "Epoch 5/5\n",
      "5667/5667 [==============================] - 195s 34ms/step - loss: 8.6791 - accuracy: 0.4309 - val_loss: 8.6934 - val_accuracy: 0.4299\n"
     ]
    }
   ],
   "source": [
    "data6 = model.fit(X_train,y_train,validation_data=(X_test,y_test),epochs=5,batch_size=32)"
   ]
  },
  {
   "cell_type": "markdown",
   "id": "8ce353d2",
   "metadata": {},
   "source": [
    "### SGD & SoftMax"
   ]
  },
  {
   "cell_type": "code",
   "execution_count": 47,
   "id": "f140abf5",
   "metadata": {},
   "outputs": [
    {
     "name": "stdout",
     "output_type": "stream",
     "text": [
      "Model: \"sequential_14\"\n",
      "_________________________________________________________________\n",
      " Layer (type)                Output Shape              Param #   \n",
      "=================================================================\n",
      " embedding_14 (Embedding)    (None, 15, 100)           800000    \n",
      "                                                                 \n",
      " conv1d_14 (Conv1D)          (None, 11, 128)           64128     \n",
      "                                                                 \n",
      " bidirectional_14 (Bidirecti  (None, 300)              334800    \n",
      " onal)                                                           \n",
      "                                                                 \n",
      " dense_28 (Dense)            (None, 10)                3010      \n",
      "                                                                 \n",
      " dense_29 (Dense)            (None, 1)                 11        \n",
      "                                                                 \n",
      "=================================================================\n",
      "Total params: 1,201,949\n",
      "Trainable params: 1,201,949\n",
      "Non-trainable params: 0\n",
      "_________________________________________________________________\n"
     ]
    }
   ],
   "source": [
    "embedding_dim = 100\n",
    "\n",
    "model = Sequential()\n",
    "model.add(Embedding(voc_size, embedding_dim, input_length=sent_length))\n",
    "model.add(Conv1D(128, 5, activation='relu'))\n",
    "model.add(Bidirectional(LSTM(150)))\n",
    "model.add(Dense(10, activation='relu'))\n",
    "model.add(Dense(1, activation='softmax'))\n",
    "model.compile(optimizer='SGD',\n",
    "              loss='binary_crossentropy',\n",
    "              metrics=['accuracy'])\n",
    "model.summary()"
   ]
  },
  {
   "cell_type": "code",
   "execution_count": 48,
   "id": "8dfc91ec",
   "metadata": {},
   "outputs": [
    {
     "name": "stdout",
     "output_type": "stream",
     "text": [
      "Epoch 1/5\n",
      "5667/5667 [==============================] - 206s 36ms/step - loss: 0.6602 - accuracy: 0.4309 - val_loss: 0.6498 - val_accuracy: 0.4299\n",
      "Epoch 2/5\n",
      "5667/5667 [==============================] - 207s 37ms/step - loss: 0.6504 - accuracy: 0.4309 - val_loss: 0.6480 - val_accuracy: 0.4299\n",
      "Epoch 3/5\n",
      "5667/5667 [==============================] - 223s 39ms/step - loss: 0.6485 - accuracy: 0.4309 - val_loss: 0.6451 - val_accuracy: 0.4299\n",
      "Epoch 4/5\n",
      "5667/5667 [==============================] - 232s 41ms/step - loss: 0.6454 - accuracy: 0.4309 - val_loss: 0.6412 - val_accuracy: 0.4299\n",
      "Epoch 5/5\n",
      "5667/5667 [==============================] - 243s 43ms/step - loss: 0.6379 - accuracy: 0.4309 - val_loss: 0.6304 - val_accuracy: 0.4299\n"
     ]
    }
   ],
   "source": [
    "data7 = model.fit(X_train,y_train,validation_data=(X_test,y_test),epochs=5,batch_size=32)"
   ]
  },
  {
   "cell_type": "markdown",
   "id": "c8b35fb5",
   "metadata": {},
   "source": [
    "### SGD & TanH"
   ]
  },
  {
   "cell_type": "code",
   "execution_count": 49,
   "id": "bcd21178",
   "metadata": {},
   "outputs": [
    {
     "name": "stdout",
     "output_type": "stream",
     "text": [
      "Model: \"sequential_15\"\n",
      "_________________________________________________________________\n",
      " Layer (type)                Output Shape              Param #   \n",
      "=================================================================\n",
      " embedding_15 (Embedding)    (None, 15, 100)           800000    \n",
      "                                                                 \n",
      " conv1d_15 (Conv1D)          (None, 11, 128)           64128     \n",
      "                                                                 \n",
      " bidirectional_15 (Bidirecti  (None, 300)              334800    \n",
      " onal)                                                           \n",
      "                                                                 \n",
      " dense_30 (Dense)            (None, 10)                3010      \n",
      "                                                                 \n",
      " dense_31 (Dense)            (None, 1)                 11        \n",
      "                                                                 \n",
      "=================================================================\n",
      "Total params: 1,201,949\n",
      "Trainable params: 1,201,949\n",
      "Non-trainable params: 0\n",
      "_________________________________________________________________\n"
     ]
    }
   ],
   "source": [
    "embedding_dim = 100\n",
    "\n",
    "model = Sequential()\n",
    "model.add(Embedding(voc_size, embedding_dim, input_length=sent_length))\n",
    "model.add(Conv1D(128, 5, activation='relu'))\n",
    "model.add(Bidirectional(LSTM(150)))\n",
    "model.add(Dense(10, activation='relu'))\n",
    "model.add(Dense(1, activation='tanh'))\n",
    "model.compile(optimizer='SGD',\n",
    "              loss='binary_crossentropy',\n",
    "              metrics=['accuracy'])\n",
    "model.summary()"
   ]
  },
  {
   "cell_type": "code",
   "execution_count": 50,
   "id": "4f8b2993",
   "metadata": {},
   "outputs": [
    {
     "name": "stdout",
     "output_type": "stream",
     "text": [
      "Epoch 1/5\n",
      "5667/5667 [==============================] - 363s 62ms/step - loss: 0.6563 - accuracy: 0.6082 - val_loss: 0.6506 - val_accuracy: 0.6147\n",
      "Epoch 2/5\n",
      "5667/5667 [==============================] - 351s 62ms/step - loss: 0.6505 - accuracy: 0.6144 - val_loss: 0.6462 - val_accuracy: 0.6184\n",
      "Epoch 3/5\n",
      "5667/5667 [==============================] - 337s 59ms/step - loss: 0.6472 - accuracy: 0.6165 - val_loss: 0.6454 - val_accuracy: 0.6194\n",
      "Epoch 4/5\n",
      "5667/5667 [==============================] - 358s 63ms/step - loss: 0.6305 - accuracy: 0.6348 - val_loss: 0.6105 - val_accuracy: 0.6631\n",
      "Epoch 5/5\n",
      "5667/5667 [==============================] - 458s 81ms/step - loss: 0.5992 - accuracy: 0.6688 - val_loss: 0.5846 - val_accuracy: 0.6857\n"
     ]
    }
   ],
   "source": [
    "data8 = model.fit(X_train,y_train,validation_data=(X_test,y_test),epochs=5,batch_size=32)"
   ]
  },
  {
   "cell_type": "code",
   "execution_count": 70,
   "id": "6b564217",
   "metadata": {},
   "outputs": [],
   "source": [
    "accuracy_sigadam = ['adam','sigmoid', \n",
    "               max(data1.history['accuracy']), \n",
    "               max(data1.history['val_accuracy'])]\n",
    "\n",
    "accuracy_reladam = ['adam','relu', \n",
    "                max(data2.history['accuracy']), \n",
    "                max(data2.history['val_accuracy'])]\n",
    "\n",
    "accuracy_softadam = ['adam','softmax', \n",
    "                max(data3.history['accuracy']), \n",
    "                max(data3.history['val_accuracy'])]\n",
    "\n",
    "accuracy_tanadam = ['adam','tanh', \n",
    "                max(data4.history['accuracy']), \n",
    "                max(data4.history['val_accuracy'])]\n",
    "\n",
    "accuracy_sigsgd = ['sgd','sigmoid', \n",
    "               max(data5.history['accuracy']), \n",
    "               max(data5.history['val_accuracy'])]\n",
    "\n",
    "accuracy_relsgd = ['sgd','relu', \n",
    "                max(data6.history['accuracy']), \n",
    "                max(data6.history['val_accuracy'])]\n",
    "\n",
    "accuracy_softsgd = ['sgd','softmax', \n",
    "                max(data7.history['accuracy']), \n",
    "                max(data7.history['val_accuracy'])]\n",
    "\n",
    "accuracy_tansgd = ['sgd','tanh', \n",
    "                max(data8.history['accuracy']), \n",
    "                max(data8.history['val_accuracy'])]"
   ]
  },
  {
   "cell_type": "code",
   "execution_count": 71,
   "id": "df8f5134",
   "metadata": {},
   "outputs": [],
   "source": [
    "comparison = pd.DataFrame([accuracy_sigadam,accuracy_reladam,accuracy_softadam,accuracy_tanadam,accuracy_sigsgd,accuracy_relsgd,accuracy_softsgd,accuracy_tansgd])"
   ]
  },
  {
   "cell_type": "code",
   "execution_count": 72,
   "id": "212030a0",
   "metadata": {},
   "outputs": [
    {
     "data": {
      "text/html": [
       "<div>\n",
       "<style scoped>\n",
       "    .dataframe tbody tr th:only-of-type {\n",
       "        vertical-align: middle;\n",
       "    }\n",
       "\n",
       "    .dataframe tbody tr th {\n",
       "        vertical-align: top;\n",
       "    }\n",
       "\n",
       "    .dataframe thead th {\n",
       "        text-align: right;\n",
       "    }\n",
       "</style>\n",
       "<table border=\"1\" class=\"dataframe\">\n",
       "  <thead>\n",
       "    <tr style=\"text-align: right;\">\n",
       "      <th></th>\n",
       "      <th>Optimizer</th>\n",
       "      <th>Activation</th>\n",
       "      <th>Training_Accuracy</th>\n",
       "      <th>Validation_Accuracy</th>\n",
       "    </tr>\n",
       "  </thead>\n",
       "  <tbody>\n",
       "    <tr>\n",
       "      <th>0</th>\n",
       "      <td>adam</td>\n",
       "      <td>sigmoid</td>\n",
       "      <td>0.910810</td>\n",
       "      <td>0.701818</td>\n",
       "    </tr>\n",
       "    <tr>\n",
       "      <th>1</th>\n",
       "      <td>adam</td>\n",
       "      <td>relu</td>\n",
       "      <td>0.857871</td>\n",
       "      <td>0.700352</td>\n",
       "    </tr>\n",
       "    <tr>\n",
       "      <th>2</th>\n",
       "      <td>adam</td>\n",
       "      <td>softmax</td>\n",
       "      <td>0.430871</td>\n",
       "      <td>0.429928</td>\n",
       "    </tr>\n",
       "    <tr>\n",
       "      <th>3</th>\n",
       "      <td>adam</td>\n",
       "      <td>tanh</td>\n",
       "      <td>0.921620</td>\n",
       "      <td>0.704203</td>\n",
       "    </tr>\n",
       "    <tr>\n",
       "      <th>4</th>\n",
       "      <td>sgd</td>\n",
       "      <td>sigmoid</td>\n",
       "      <td>0.614904</td>\n",
       "      <td>0.617940</td>\n",
       "    </tr>\n",
       "    <tr>\n",
       "      <th>5</th>\n",
       "      <td>sgd</td>\n",
       "      <td>relu</td>\n",
       "      <td>0.430904</td>\n",
       "      <td>0.429928</td>\n",
       "    </tr>\n",
       "    <tr>\n",
       "      <th>6</th>\n",
       "      <td>sgd</td>\n",
       "      <td>softmax</td>\n",
       "      <td>0.430871</td>\n",
       "      <td>0.429928</td>\n",
       "    </tr>\n",
       "    <tr>\n",
       "      <th>7</th>\n",
       "      <td>sgd</td>\n",
       "      <td>tanh</td>\n",
       "      <td>0.668808</td>\n",
       "      <td>0.685728</td>\n",
       "    </tr>\n",
       "  </tbody>\n",
       "</table>\n",
       "</div>"
      ],
      "text/plain": [
       "  Optimizer Activation  Training_Accuracy  Validation_Accuracy\n",
       "0      adam    sigmoid           0.910810             0.701818\n",
       "1      adam       relu           0.857871             0.700352\n",
       "2      adam    softmax           0.430871             0.429928\n",
       "3      adam       tanh           0.921620             0.704203\n",
       "4       sgd    sigmoid           0.614904             0.617940\n",
       "5       sgd       relu           0.430904             0.429928\n",
       "6       sgd    softmax           0.430871             0.429928\n",
       "7       sgd       tanh           0.668808             0.685728"
      ]
     },
     "execution_count": 72,
     "metadata": {},
     "output_type": "execute_result"
    }
   ],
   "source": [
    "comparison.columns = ['Optimizer','Activation', 'Training_Accuracy', 'Validation_Accuracy']\n",
    "comparison"
   ]
  },
  {
   "cell_type": "markdown",
   "id": "2fdaaebe",
   "metadata": {},
   "source": [
    "### With 90:10 Ratio split"
   ]
  },
  {
   "cell_type": "code",
   "execution_count": 17,
   "id": "16865983",
   "metadata": {},
   "outputs": [],
   "source": [
    "from sklearn.model_selection import train_test_split\n",
    "X_train, X_test, y_train, y_test = train_test_split(X_final, y_final, test_size=0.1, random_state=42)"
   ]
  },
  {
   "cell_type": "code",
   "execution_count": 18,
   "id": "70aab3d8",
   "metadata": {},
   "outputs": [
    {
     "name": "stdout",
     "output_type": "stream",
     "text": [
      "Model: \"sequential\"\n",
      "_________________________________________________________________\n",
      " Layer (type)                Output Shape              Param #   \n",
      "=================================================================\n",
      " embedding (Embedding)       (None, 15, 100)           800000    \n",
      "                                                                 \n",
      " conv1d (Conv1D)             (None, 11, 128)           64128     \n",
      "                                                                 \n",
      " bidirectional (Bidirectiona  (None, 300)              334800    \n",
      " l)                                                              \n",
      "                                                                 \n",
      " dense (Dense)               (None, 10)                3010      \n",
      "                                                                 \n",
      " dense_1 (Dense)             (None, 1)                 11        \n",
      "                                                                 \n",
      "=================================================================\n",
      "Total params: 1,201,949\n",
      "Trainable params: 1,201,949\n",
      "Non-trainable params: 0\n",
      "_________________________________________________________________\n"
     ]
    }
   ],
   "source": [
    "embedding_dim = 100\n",
    "\n",
    "model = Sequential()\n",
    "model.add(Embedding(voc_size, embedding_dim, input_length=sent_length))\n",
    "model.add(Conv1D(128, 5, activation='relu'))\n",
    "model.add(Bidirectional(LSTM(150)))\n",
    "model.add(Dense(10, activation='relu'))\n",
    "model.add(Dense(1, activation='tanh'))\n",
    "model.compile(optimizer='adam',\n",
    "              loss='binary_crossentropy',\n",
    "              metrics=['accuracy'])\n",
    "model.summary()"
   ]
  },
  {
   "cell_type": "code",
   "execution_count": 19,
   "id": "66d9526f",
   "metadata": {},
   "outputs": [
    {
     "name": "stdout",
     "output_type": "stream",
     "text": [
      "Epoch 1/5\n",
      "7612/7612 [==============================] - 226s 29ms/step - loss: 0.5806 - accuracy: 0.6894 - val_loss: 0.5565 - val_accuracy: 0.7105\n",
      "Epoch 2/5\n",
      "7612/7612 [==============================] - 218s 29ms/step - loss: 0.5230 - accuracy: 0.7354 - val_loss: 0.5601 - val_accuracy: 0.7091\n",
      "Epoch 3/5\n",
      "7612/7612 [==============================] - 223s 29ms/step - loss: 0.4541 - accuracy: 0.7861 - val_loss: 0.6018 - val_accuracy: 0.6895\n",
      "Epoch 4/5\n",
      "7612/7612 [==============================] - 238s 31ms/step - loss: 0.3660 - accuracy: 0.8411 - val_loss: 0.6622 - val_accuracy: 0.6786\n",
      "Epoch 5/5\n",
      "7612/7612 [==============================] - 234s 31ms/step - loss: 0.2922 - accuracy: 0.8854 - val_loss: 0.8027 - val_accuracy: 0.6771\n"
     ]
    }
   ],
   "source": [
    "data90 = model.fit(X_train,y_train,validation_data=(X_test,y_test),epochs=5,batch_size=32)"
   ]
  },
  {
   "cell_type": "code",
   "execution_count": null,
   "id": "c757fef1",
   "metadata": {},
   "outputs": [],
   "source": []
  }
 ],
 "metadata": {
  "kernelspec": {
   "display_name": "Python 3 (ipykernel)",
   "language": "python",
   "name": "python3"
  },
  "language_info": {
   "codemirror_mode": {
    "name": "ipython",
    "version": 3
   },
   "file_extension": ".py",
   "mimetype": "text/x-python",
   "name": "python",
   "nbconvert_exporter": "python",
   "pygments_lexer": "ipython3",
   "version": "3.9.0"
  }
 },
 "nbformat": 4,
 "nbformat_minor": 5
}
